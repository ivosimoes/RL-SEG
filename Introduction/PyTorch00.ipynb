{
 "cells": [
  {
   "cell_type": "code",
   "execution_count": 1,
   "id": "4288b4a1-fac1-4ca9-a822-b844dab24881",
   "metadata": {
    "tags": []
   },
   "outputs": [],
   "source": [
    "import numpy as np\n",
    "import torch\n",
    "import pandas as pd\n",
    "import matplotlib.pyplot as plt"
   ]
  },
  {
   "cell_type": "code",
   "execution_count": 2,
   "id": "442c6e2a-2eb5-43e3-8aab-eaef48c0f3fe",
   "metadata": {
    "tags": []
   },
   "outputs": [
    {
     "name": "stdout",
     "output_type": "stream",
     "text": [
      "2.0.1\n"
     ]
    }
   ],
   "source": [
    "print(torch.__version__)"
   ]
  },
  {
   "cell_type": "markdown",
   "id": "b77a7d55-2d03-4052-9a05-047dcf46b14f",
   "metadata": {
    "jp-MarkdownHeadingCollapsed": true,
    "tags": [],
    "toc-hr-collapsed": true
   },
   "source": [
    "# Introduction to Tensors"
   ]
  },
  {
   "cell_type": "markdown",
   "id": "be51f8a4-3f62-4ca6-ba2c-91d9e6bcf325",
   "metadata": {
    "jp-MarkdownHeadingCollapsed": true,
    "tags": []
   },
   "source": [
    "## Tensor Size"
   ]
  },
  {
   "cell_type": "code",
   "execution_count": 3,
   "id": "50939ee9-97f0-4efa-b447-7f74eeb649dd",
   "metadata": {
    "tags": []
   },
   "outputs": [
    {
     "data": {
      "text/plain": [
       "tensor(7)"
      ]
     },
     "execution_count": 3,
     "metadata": {},
     "output_type": "execute_result"
    }
   ],
   "source": [
    "# Single number (0-dimensional) that scales a vector, matrix or tensor (a)\n",
    "\n",
    "scalar = torch.tensor(7)\n",
    "scalar"
   ]
  },
  {
   "cell_type": "code",
   "execution_count": 4,
   "id": "8b4aed65-a2ce-4f05-b42f-c67e06bd6644",
   "metadata": {
    "tags": []
   },
   "outputs": [
    {
     "data": {
      "text/plain": [
       "0"
      ]
     },
     "execution_count": 4,
     "metadata": {},
     "output_type": "execute_result"
    }
   ],
   "source": [
    "scalar.ndim"
   ]
  },
  {
   "cell_type": "code",
   "execution_count": 5,
   "id": "b0d4b01d-0f0c-4a6a-97fd-25e01b21e56f",
   "metadata": {
    "tags": []
   },
   "outputs": [
    {
     "data": {
      "text/plain": [
       "7"
      ]
     },
     "execution_count": 5,
     "metadata": {},
     "output_type": "execute_result"
    }
   ],
   "source": [
    "scalar.item()"
   ]
  },
  {
   "cell_type": "code",
   "execution_count": 6,
   "id": "6917a9f3-d0bd-46da-991d-4549407d76ae",
   "metadata": {
    "tags": []
   },
   "outputs": [
    {
     "data": {
      "text/plain": [
       "tensor([1, 2])"
      ]
     },
     "execution_count": 6,
     "metadata": {},
     "output_type": "execute_result"
    }
   ],
   "source": [
    "# Array of length n (1-dimensional) that, i.e., represents a plane (y)\n",
    "\n",
    "vector = torch.tensor([1, 2])\n",
    "vector"
   ]
  },
  {
   "cell_type": "code",
   "execution_count": 7,
   "id": "a8a172dc-e8a9-4f1b-b319-c6be673adbe0",
   "metadata": {
    "tags": []
   },
   "outputs": [
    {
     "data": {
      "text/plain": [
       "1"
      ]
     },
     "execution_count": 7,
     "metadata": {},
     "output_type": "execute_result"
    }
   ],
   "source": [
    "vector.ndim"
   ]
  },
  {
   "cell_type": "code",
   "execution_count": 8,
   "id": "18983aa1-3787-4a58-8c76-d4c9eff3c96a",
   "metadata": {
    "tags": []
   },
   "outputs": [
    {
     "data": {
      "text/plain": [
       "torch.Size([2])"
      ]
     },
     "execution_count": 8,
     "metadata": {},
     "output_type": "execute_result"
    }
   ],
   "source": [
    "vector.shape"
   ]
  },
  {
   "cell_type": "code",
   "execution_count": 9,
   "id": "d35d9a3b-eba1-4726-a059-c5cd6596b217",
   "metadata": {
    "tags": []
   },
   "outputs": [
    {
     "data": {
      "text/plain": [
       "tensor([[1, 3],\n",
       "        [1, 2]])"
      ]
     },
     "execution_count": 9,
     "metadata": {},
     "output_type": "execute_result"
    }
   ],
   "source": [
    "# 2 nested arrays of n x n size (2-dimensional) that, i.e., represents a vector in a plane (Q)\n",
    "\n",
    "matrix = torch.tensor([[1, 3], \n",
    "                       [1, 2]])\n",
    "matrix"
   ]
  },
  {
   "cell_type": "code",
   "execution_count": 10,
   "id": "f85fda92-5b26-4b70-a3c5-8ea4d63ddac2",
   "metadata": {
    "tags": []
   },
   "outputs": [
    {
     "data": {
      "text/plain": [
       "2"
      ]
     },
     "execution_count": 10,
     "metadata": {},
     "output_type": "execute_result"
    }
   ],
   "source": [
    "matrix.ndim"
   ]
  },
  {
   "cell_type": "code",
   "execution_count": 11,
   "id": "5b653d36-48da-4441-b179-cd476ae3c2d3",
   "metadata": {
    "tags": []
   },
   "outputs": [
    {
     "data": {
      "text/plain": [
       "torch.Size([2, 2])"
      ]
     },
     "execution_count": 11,
     "metadata": {},
     "output_type": "execute_result"
    }
   ],
   "source": [
    "matrix.shape"
   ]
  },
  {
   "cell_type": "code",
   "execution_count": 12,
   "id": "761d9d76-1ab1-4b10-a12d-f28e771495fe",
   "metadata": {
    "tags": []
   },
   "outputs": [
    {
     "data": {
      "text/plain": [
       "tensor([[[1, 2, 3],\n",
       "         [4, 5, 6],\n",
       "         [7, 8, 9]]])"
      ]
     },
     "execution_count": 12,
     "metadata": {},
     "output_type": "execute_result"
    }
   ],
   "source": [
    "# Multiple nested arrays (N-dimensional) that represents a tensor (X)\n",
    "\n",
    "tensor = torch.tensor([[[1, 2, 3],\n",
    "                        [4, 5, 6],\n",
    "                        [7, 8, 9]]])\n",
    "tensor"
   ]
  },
  {
   "cell_type": "code",
   "execution_count": 13,
   "id": "0484d992-276c-47cb-8698-fd8557ce28bb",
   "metadata": {
    "tags": []
   },
   "outputs": [
    {
     "data": {
      "text/plain": [
       "3"
      ]
     },
     "execution_count": 13,
     "metadata": {},
     "output_type": "execute_result"
    }
   ],
   "source": [
    "tensor.ndim"
   ]
  },
  {
   "cell_type": "code",
   "execution_count": 14,
   "id": "f613b557-9207-400d-a439-9e7f4e1656b9",
   "metadata": {
    "tags": []
   },
   "outputs": [
    {
     "data": {
      "text/plain": [
       "torch.Size([1, 3, 3])"
      ]
     },
     "execution_count": 14,
     "metadata": {},
     "output_type": "execute_result"
    }
   ],
   "source": [
    "tensor.shape"
   ]
  },
  {
   "cell_type": "code",
   "execution_count": 15,
   "id": "ff8e8c7f-9fad-4438-a0e5-48307cac4a12",
   "metadata": {
    "tags": []
   },
   "outputs": [
    {
     "data": {
      "text/plain": [
       "tensor([[[[2, 2],\n",
       "          [2, 2]],\n",
       "\n",
       "         [[2, 2],\n",
       "          [2, 2]],\n",
       "\n",
       "         [[2, 2],\n",
       "          [2, 2]],\n",
       "\n",
       "         [[2, 2],\n",
       "          [2, 2]]],\n",
       "\n",
       "\n",
       "        [[[2, 2],\n",
       "          [2, 2]],\n",
       "\n",
       "         [[2, 2],\n",
       "          [2, 2]],\n",
       "\n",
       "         [[2, 2],\n",
       "          [2, 2]],\n",
       "\n",
       "         [[2, 2],\n",
       "          [2, 2]]]])"
      ]
     },
     "execution_count": 15,
     "metadata": {},
     "output_type": "execute_result"
    }
   ],
   "source": [
    "tensor2 = torch.tensor([[[[2, 2], [2, 2]], [[2, 2], [2, 2]], [[2, 2], [2, 2]], [[2, 2], [2, 2]]], [[[2, 2], [2, 2]], [[2, 2], [2, 2]], [[2, 2], [2, 2]], [[2, 2], [2, 2]]]])\n",
    "tensor2"
   ]
  },
  {
   "cell_type": "code",
   "execution_count": 16,
   "id": "41a0ddf7-cc1e-489d-a28e-f49528a62a33",
   "metadata": {
    "tags": []
   },
   "outputs": [
    {
     "data": {
      "text/plain": [
       "4"
      ]
     },
     "execution_count": 16,
     "metadata": {},
     "output_type": "execute_result"
    }
   ],
   "source": [
    "tensor2.ndim"
   ]
  },
  {
   "cell_type": "code",
   "execution_count": 17,
   "id": "475d2fd8-e4cd-44da-bf33-a39e4ae83ba6",
   "metadata": {
    "tags": []
   },
   "outputs": [
    {
     "data": {
      "text/plain": [
       "torch.Size([2, 4, 2, 2])"
      ]
     },
     "execution_count": 17,
     "metadata": {},
     "output_type": "execute_result"
    }
   ],
   "source": [
    "tensor2.shape"
   ]
  },
  {
   "cell_type": "markdown",
   "id": "b841a39d-a75a-4774-86f6-f29422efebaa",
   "metadata": {
    "jp-MarkdownHeadingCollapsed": true,
    "tags": []
   },
   "source": [
    "## Random Tensors"
   ]
  },
  {
   "cell_type": "code",
   "execution_count": 18,
   "id": "22706671-e518-496d-9e35-adf3e07b8dbc",
   "metadata": {
    "tags": []
   },
   "outputs": [
    {
     "data": {
      "text/plain": [
       "tensor([[[[0.8380, 0.4248],\n",
       "          [0.0628, 0.5668]],\n",
       "\n",
       "         [[0.3336, 0.5534],\n",
       "          [0.7256, 0.2672]],\n",
       "\n",
       "         [[0.0400, 0.6951],\n",
       "          [0.2053, 0.9063]]],\n",
       "\n",
       "\n",
       "        [[[0.4105, 0.9275],\n",
       "          [0.6768, 0.9716]],\n",
       "\n",
       "         [[0.8608, 0.0064],\n",
       "          [0.8859, 0.6739]],\n",
       "\n",
       "         [[0.2150, 0.4958],\n",
       "          [0.5927, 0.7660]]]])"
      ]
     },
     "execution_count": 18,
     "metadata": {},
     "output_type": "execute_result"
    }
   ],
   "source": [
    "## Random tensors\n",
    "\n",
    "random_tensor = torch.rand(2, 3, 2, 2)\n",
    "random_tensor"
   ]
  },
  {
   "cell_type": "code",
   "execution_count": 19,
   "id": "14c4ef18-7b31-479b-aa87-ca9c7dcc34b1",
   "metadata": {
    "tags": []
   },
   "outputs": [
    {
     "data": {
      "text/plain": [
       "3"
      ]
     },
     "execution_count": 19,
     "metadata": {},
     "output_type": "execute_result"
    }
   ],
   "source": [
    "## Random tensor for a 128x128 RGB image\n",
    "\n",
    "random_image_tensor = torch.rand(size=[128, 128, 3])\n",
    "random_image_tensor.ndim"
   ]
  },
  {
   "cell_type": "code",
   "execution_count": 20,
   "id": "3b99957a-07a9-468e-a4eb-a74b7db68dcb",
   "metadata": {
    "tags": []
   },
   "outputs": [
    {
     "data": {
      "text/plain": [
       "torch.Size([128, 128, 3])"
      ]
     },
     "execution_count": 20,
     "metadata": {},
     "output_type": "execute_result"
    }
   ],
   "source": [
    "random_image_tensor.shape"
   ]
  },
  {
   "cell_type": "code",
   "execution_count": 21,
   "id": "d5acef18-ca93-495c-a787-4eac9f7f8a2f",
   "metadata": {
    "tags": []
   },
   "outputs": [
    {
     "data": {
      "text/plain": [
       "tensor([[[7.8656e-01, 8.7559e-01, 8.3383e-01],\n",
       "         [2.7950e-01, 5.4781e-01, 4.5062e-01],\n",
       "         [4.9213e-01, 2.1988e-01, 8.8580e-01],\n",
       "         ...,\n",
       "         [5.2605e-02, 6.6933e-01, 9.4107e-02],\n",
       "         [2.0365e-01, 1.2129e-01, 7.8500e-01],\n",
       "         [2.9879e-01, 7.8783e-01, 3.5733e-01]],\n",
       "\n",
       "        [[2.4391e-01, 6.4862e-02, 6.2952e-01],\n",
       "         [7.9088e-01, 6.3884e-01, 2.4774e-02],\n",
       "         [7.8366e-01, 5.4309e-01, 3.1554e-01],\n",
       "         ...,\n",
       "         [8.9133e-01, 4.3870e-01, 2.8800e-01],\n",
       "         [6.7875e-01, 4.1570e-01, 9.5134e-02],\n",
       "         [9.2726e-01, 2.8585e-01, 4.6724e-02]],\n",
       "\n",
       "        [[4.1265e-01, 4.7457e-01, 3.4477e-01],\n",
       "         [9.2879e-02, 2.6687e-01, 9.0517e-01],\n",
       "         [3.1981e-01, 5.8813e-01, 1.4090e-01],\n",
       "         ...,\n",
       "         [8.9312e-01, 2.6633e-01, 6.5043e-01],\n",
       "         [1.4886e-01, 4.6259e-01, 7.6937e-01],\n",
       "         [7.2709e-01, 1.8340e-04, 9.1117e-01]],\n",
       "\n",
       "        ...,\n",
       "\n",
       "        [[7.1729e-01, 6.6943e-01, 5.4469e-02],\n",
       "         [7.4601e-01, 4.2964e-01, 1.7027e-01],\n",
       "         [2.5957e-01, 4.1053e-01, 5.2803e-01],\n",
       "         ...,\n",
       "         [2.7156e-01, 9.2959e-01, 3.2838e-01],\n",
       "         [1.3954e-01, 6.8064e-01, 5.6782e-01],\n",
       "         [8.9439e-01, 2.2421e-01, 6.9879e-01]],\n",
       "\n",
       "        [[2.0357e-01, 3.6044e-01, 9.1532e-01],\n",
       "         [8.2829e-01, 2.2273e-01, 8.4165e-01],\n",
       "         [9.3445e-01, 3.0693e-01, 4.2479e-01],\n",
       "         ...,\n",
       "         [2.2886e-02, 5.4255e-01, 9.1475e-01],\n",
       "         [1.7120e-01, 2.4551e-01, 8.1831e-01],\n",
       "         [8.2129e-01, 9.8722e-02, 5.5743e-01]],\n",
       "\n",
       "        [[4.9049e-01, 8.6509e-01, 9.9939e-01],\n",
       "         [5.5667e-01, 7.6408e-02, 7.8540e-01],\n",
       "         [9.3150e-01, 6.5050e-01, 5.4711e-01],\n",
       "         ...,\n",
       "         [8.7261e-01, 8.0162e-02, 5.7948e-01],\n",
       "         [8.2477e-01, 1.8577e-01, 9.3621e-01],\n",
       "         [9.5160e-01, 4.8177e-03, 5.6634e-01]]])"
      ]
     },
     "execution_count": 21,
     "metadata": {},
     "output_type": "execute_result"
    }
   ],
   "source": [
    "random_image_tensor"
   ]
  },
  {
   "cell_type": "code",
   "execution_count": 22,
   "id": "5621246d-5e76-4605-acb0-71e8646b8e63",
   "metadata": {
    "tags": []
   },
   "outputs": [],
   "source": [
    "## Zeros and ones tensors\n",
    "\n",
    "zeros_tensor = torch.zeros(size=[1, 3, 3])\n",
    "ones_tensor = torch.ones(size=[1, 3, 3])\n",
    "multiply_tensors = zeros_tensor * ones_tensor"
   ]
  },
  {
   "cell_type": "code",
   "execution_count": 23,
   "id": "1b2efdc2-3310-469c-aa9d-624fa5afbd7b",
   "metadata": {
    "tags": []
   },
   "outputs": [
    {
     "data": {
      "text/plain": [
       "tensor([[[0., 0., 0.],\n",
       "         [0., 0., 0.],\n",
       "         [0., 0., 0.]]])"
      ]
     },
     "execution_count": 23,
     "metadata": {},
     "output_type": "execute_result"
    }
   ],
   "source": [
    "zeros_tensor"
   ]
  },
  {
   "cell_type": "code",
   "execution_count": 24,
   "id": "33ff2e37-53e9-459d-87f5-0e5103e22985",
   "metadata": {
    "tags": []
   },
   "outputs": [
    {
     "data": {
      "text/plain": [
       "tensor([[[1., 1., 1.],\n",
       "         [1., 1., 1.],\n",
       "         [1., 1., 1.]]])"
      ]
     },
     "execution_count": 24,
     "metadata": {},
     "output_type": "execute_result"
    }
   ],
   "source": [
    "ones_tensor"
   ]
  },
  {
   "cell_type": "code",
   "execution_count": 25,
   "id": "7ddf49d4-8e1b-4477-9eb1-a2ae48ad4191",
   "metadata": {
    "tags": []
   },
   "outputs": [
    {
     "data": {
      "text/plain": [
       "tensor([[[0., 0., 0.],\n",
       "         [0., 0., 0.],\n",
       "         [0., 0., 0.]]])"
      ]
     },
     "execution_count": 25,
     "metadata": {},
     "output_type": "execute_result"
    }
   ],
   "source": [
    "multiply_tensors"
   ]
  },
  {
   "cell_type": "markdown",
   "id": "191dc8a5-267f-47d0-950d-70ba3522e4c2",
   "metadata": {
    "jp-MarkdownHeadingCollapsed": true,
    "tags": []
   },
   "source": [
    "## Tensor Datatypes"
   ]
  },
  {
   "cell_type": "code",
   "execution_count": 26,
   "id": "8a2094fc-2a8b-4594-9670-1df1f33aeb5d",
   "metadata": {
    "tags": []
   },
   "outputs": [
    {
     "data": {
      "text/plain": [
       "torch.float32"
      ]
     },
     "execution_count": 26,
     "metadata": {},
     "output_type": "execute_result"
    }
   ],
   "source": [
    "float32_tensor = torch.tensor([[1.0, 2.0], [3.0, 4.0]])\n",
    "float32_tensor.dtype"
   ]
  },
  {
   "cell_type": "code",
   "execution_count": 27,
   "id": "20ea6f4d-e76c-48d0-9a55-e082ac7c014f",
   "metadata": {
    "tags": []
   },
   "outputs": [
    {
     "data": {
      "text/plain": [
       "torch.float64"
      ]
     },
     "execution_count": 27,
     "metadata": {},
     "output_type": "execute_result"
    }
   ],
   "source": [
    "float64_tensor = torch.tensor([[1.0, 2.0], [3.0, 4.0]], dtype=torch.float64)\n",
    "float64_tensor.dtype"
   ]
  },
  {
   "cell_type": "code",
   "execution_count": 28,
   "id": "e96b2dec-38c8-419b-92e1-9949cff466cc",
   "metadata": {},
   "outputs": [
    {
     "data": {
      "text/plain": [
       "torch.float16"
      ]
     },
     "execution_count": 28,
     "metadata": {},
     "output_type": "execute_result"
    }
   ],
   "source": [
    "float16_tensor = float32_tensor.type(torch.float16)\n",
    "float16_tensor.dtype"
   ]
  },
  {
   "cell_type": "code",
   "execution_count": 29,
   "id": "236c953c-0b30-44b8-bab0-bae7352c1562",
   "metadata": {
    "tags": []
   },
   "outputs": [
    {
     "data": {
      "text/plain": [
       "tensor([[ 1.,  4.],\n",
       "        [ 9., 16.]])"
      ]
     },
     "execution_count": 29,
     "metadata": {},
     "output_type": "execute_result"
    }
   ],
   "source": [
    "float16_tensor*float32_tensor"
   ]
  },
  {
   "cell_type": "code",
   "execution_count": 30,
   "id": "1c67d50e-0ed2-4c89-a6e0-73a9f40ae134",
   "metadata": {
    "tags": []
   },
   "outputs": [
    {
     "data": {
      "text/plain": [
       "torch.int32"
      ]
     },
     "execution_count": 30,
     "metadata": {},
     "output_type": "execute_result"
    }
   ],
   "source": [
    "int32_tensor = float16_tensor.type(torch.int32)\n",
    "int32_tensor.dtype"
   ]
  },
  {
   "cell_type": "markdown",
   "id": "69cfebe9-7e14-4601-866a-f1bb71e59e52",
   "metadata": {
    "jp-MarkdownHeadingCollapsed": true,
    "tags": []
   },
   "source": [
    "## Tensor Attributes (Manipulation)"
   ]
  },
  {
   "cell_type": "code",
   "execution_count": 31,
   "id": "2d287ced-a241-46de-bcaa-12c25dd9d130",
   "metadata": {
    "tags": []
   },
   "outputs": [
    {
     "name": "stdout",
     "output_type": "stream",
     "text": [
      "tensor([[0.9471, 0.4682, 0.2257],\n",
      "        [0.1024, 0.1660, 0.2835]])\n",
      "Data type of tensor: torch.float32\n",
      "Size of tensor: torch.Size([2, 3])\n",
      "Device of tensor: cpu\n"
     ]
    }
   ],
   "source": [
    "tensor3 = torch.rand(2, 3)\n",
    "\n",
    "print(tensor3)\n",
    "print(f\"Data type of tensor: {tensor3.dtype}\")\n",
    "print(f\"Size of tensor: {tensor3.shape}\")\n",
    "print(f\"Device of tensor: {tensor3.device}\")"
   ]
  },
  {
   "cell_type": "code",
   "execution_count": 32,
   "id": "0dea432e-1aa7-46c0-8b17-9cde46547bb4",
   "metadata": {
    "tags": []
   },
   "outputs": [
    {
     "name": "stdout",
     "output_type": "stream",
     "text": [
      "tensor([[0.9473, 0.4683],\n",
      "        [0.2257, 0.1024],\n",
      "        [0.1660, 0.2834]], device='cuda:0', dtype=torch.float16)\n",
      "Data type of tensor: torch.float16\n",
      "Size of tensor: torch.Size([3, 2])\n",
      "Device of tensor: cuda:0\n"
     ]
    }
   ],
   "source": [
    "tensor3 = tensor3.type(torch.float16)\n",
    "tensor3 = tensor3.to(device='cuda')\n",
    "tensor3 = torch.reshape(tensor3, (3, 2))\n",
    "\n",
    "print(tensor3)\n",
    "print(f\"Data type of tensor: {tensor3.dtype}\")\n",
    "print(f\"Size of tensor: {tensor3.shape}\")\n",
    "print(f\"Device of tensor: {tensor3.device}\")\n",
    "\n",
    "# Note: reshape works only when original and result have same ammount of elements"
   ]
  },
  {
   "cell_type": "code",
   "execution_count": 33,
   "id": "dea886aa-ace5-4854-8987-0f3c49e47e13",
   "metadata": {
    "tags": []
   },
   "outputs": [
    {
     "name": "stdout",
     "output_type": "stream",
     "text": [
      "tensor([[0.9473, 0.4683, 0.2257, 0.1024, 0.1660, 0.2834]])\n",
      "Data type of tensor: torch.float32\n",
      "Size of tensor: torch.Size([1, 6])\n",
      "Device of tensor: cpu\n"
     ]
    }
   ],
   "source": [
    "tensor3 = tensor3.to(device='cpu', dtype=torch.float32)\n",
    "tensor3 = torch.reshape(tensor3, (1, 6))\n",
    "\n",
    "print(tensor3)\n",
    "print(f\"Data type of tensor: {tensor3.dtype}\")\n",
    "print(f\"Size of tensor: {tensor3.shape}\")\n",
    "print(f\"Device of tensor: {tensor3.device}\")"
   ]
  },
  {
   "cell_type": "markdown",
   "id": "822393f3-46f7-4c39-a964-12ce20e63319",
   "metadata": {
    "jp-MarkdownHeadingCollapsed": true,
    "tags": []
   },
   "source": [
    "## Tensor Manipulation"
   ]
  },
  {
   "cell_type": "markdown",
   "id": "658fab96-dcdc-430d-a7b6-c95ed3afa36b",
   "metadata": {
    "jp-MarkdownHeadingCollapsed": true,
    "tags": []
   },
   "source": [
    "### Unitary Operations"
   ]
  },
  {
   "cell_type": "code",
   "execution_count": 34,
   "id": "6c3486a1-446b-47ca-bc99-69ad3e6aae5d",
   "metadata": {},
   "outputs": [],
   "source": [
    "tensor4 = torch.tensor([[1, 3, 5], [7, 9, 11]])"
   ]
  },
  {
   "cell_type": "code",
   "execution_count": 35,
   "id": "5644a365-36f4-4d50-a2ea-dd0142d23f59",
   "metadata": {
    "tags": []
   },
   "outputs": [
    {
     "data": {
      "text/plain": [
       "(tensor([[11, 13, 15],\n",
       "         [17, 19, 21]]),\n",
       " tensor([[11, 13, 15],\n",
       "         [17, 19, 21]]))"
      ]
     },
     "execution_count": 35,
     "metadata": {},
     "output_type": "execute_result"
    }
   ],
   "source": [
    "# Addition\n",
    "tensor4 + 10, torch.add(tensor4, 10)"
   ]
  },
  {
   "cell_type": "code",
   "execution_count": 36,
   "id": "64a80b6e-76f6-4b16-b776-6da418e45aea",
   "metadata": {
    "tags": []
   },
   "outputs": [
    {
     "data": {
      "text/plain": [
       "(tensor([[-9, -7, -5],\n",
       "         [-3, -1,  1]]),\n",
       " tensor([[-9, -7, -5],\n",
       "         [-3, -1,  1]]))"
      ]
     },
     "execution_count": 36,
     "metadata": {},
     "output_type": "execute_result"
    }
   ],
   "source": [
    "# Subtraction\n",
    "tensor4 - 10, torch.sub(tensor4, 10)"
   ]
  },
  {
   "cell_type": "code",
   "execution_count": 37,
   "id": "93cd26c8-3f54-4c70-9d10-c908fd51b163",
   "metadata": {
    "tags": []
   },
   "outputs": [
    {
     "data": {
      "text/plain": [
       "(tensor([[ 10,  30,  50],\n",
       "         [ 70,  90, 110]]),\n",
       " tensor([[ 10,  30,  50],\n",
       "         [ 70,  90, 110]]))"
      ]
     },
     "execution_count": 37,
     "metadata": {},
     "output_type": "execute_result"
    }
   ],
   "source": [
    "# Multiplication (Unitary)\n",
    "tensor4 * 10, torch.mul(tensor4, 10)"
   ]
  },
  {
   "cell_type": "code",
   "execution_count": 38,
   "id": "cabec068-32b4-4944-9a08-d1f4c8c4753f",
   "metadata": {
    "tags": []
   },
   "outputs": [
    {
     "data": {
      "text/plain": [
       "(tensor([[0.1000, 0.3000, 0.5000],\n",
       "         [0.7000, 0.9000, 1.1000]]),\n",
       " tensor([[0.1000, 0.3000, 0.5000],\n",
       "         [0.7000, 0.9000, 1.1000]]))"
      ]
     },
     "execution_count": 38,
     "metadata": {},
     "output_type": "execute_result"
    }
   ],
   "source": [
    "# Division\n",
    "tensor4 / 10, torch.div(tensor4, 10)"
   ]
  },
  {
   "cell_type": "markdown",
   "id": "b67e37c9-4c4a-4323-83d1-6132299b393c",
   "metadata": {
    "jp-MarkdownHeadingCollapsed": true,
    "tags": []
   },
   "source": [
    "### Matrix Multiplication"
   ]
  },
  {
   "cell_type": "code",
   "execution_count": 39,
   "id": "aa160ed4-2af5-4620-aa0a-4b41873891ca",
   "metadata": {
    "tags": []
   },
   "outputs": [
    {
     "name": "stdout",
     "output_type": "stream",
     "text": [
      "Original Matrix:\n",
      "tensor([[ 1,  3,  5],\n",
      "        [ 7,  9, 11]])\n",
      "torch.Size([2, 3])\n",
      "\n",
      "Transposed Matrix:\n",
      "tensor([[ 1,  7],\n",
      "        [ 3,  9],\n",
      "        [ 5, 11]])\n",
      "torch.Size([3, 2])\n"
     ]
    }
   ],
   "source": [
    "# Transposed Matrix\n",
    "tensor4_tr = tensor4.T\n",
    "\n",
    "print(f\"Original Matrix:\\n{tensor4}\\n{tensor4.shape}\\n\")\n",
    "print(f\"Transposed Matrix:\\n{tensor4.T}\\n{tensor4.T.shape}\")\n",
    "\n",
    "# Note: T attribute is the transposed matrix"
   ]
  },
  {
   "cell_type": "code",
   "execution_count": 40,
   "id": "ff083916-52e4-4511-9118-979e0fe7074c",
   "metadata": {
    "tags": []
   },
   "outputs": [
    {
     "name": "stdout",
     "output_type": "stream",
     "text": [
      "Multiplied Matrixes (matmul):\n",
      "tensor([[ 35,  89],\n",
      "        [ 89, 251]])\n",
      "torch.Size([2, 2])\n",
      "\n",
      "Multiplied Matrixes (@):\n",
      "tensor([[ 35,  89],\n",
      "        [ 89, 251]])\n",
      "torch.Size([2, 2])\n"
     ]
    }
   ],
   "source": [
    "tensor4_matmul = torch.matmul(tensor4, tensor4_tr)\n",
    "tensor4_matmul_opt = tensor4 @ tensor4_tr\n",
    "\n",
    "print(f\"Multiplied Matrixes (matmul):\\n{tensor4_matmul}\\n{tensor4_matmul.shape}\\n\")\n",
    "print(f\"Multiplied Matrixes (@):\\n{tensor4_matmul_opt}\\n{tensor4_matmul_opt.shape}\")\n",
    "\n",
    "# Note: This shows both matmul and @ perform the same operation"
   ]
  },
  {
   "cell_type": "code",
   "execution_count": 41,
   "id": "26b131be-2e1b-4fbb-b9b3-e12334f2a499",
   "metadata": {
    "tags": []
   },
   "outputs": [],
   "source": [
    "tensor4_cpu = torch.rand(5000, 5000, device='cpu')\n",
    "tensor4_gpu = torch.rand(5000, 5000, device='cuda')"
   ]
  },
  {
   "cell_type": "code",
   "execution_count": 42,
   "id": "e02af895-3750-4e6e-9171-6b2626bfab93",
   "metadata": {
    "tags": []
   },
   "outputs": [
    {
     "name": "stdout",
     "output_type": "stream",
     "text": [
      "CPU times: total: 2.64 s\n",
      "Wall time: 470 ms\n"
     ]
    },
    {
     "data": {
      "text/plain": [
       "tensor([[1270.3910, 1239.4879, 1270.8556,  ..., 1264.9307, 1249.3062,\n",
       "         1252.0669],\n",
       "        [1269.4742, 1240.2118, 1259.6180,  ..., 1260.7828, 1248.1273,\n",
       "         1265.8566],\n",
       "        [1256.2571, 1250.1160, 1268.1534,  ..., 1265.8013, 1257.0520,\n",
       "         1256.7996],\n",
       "        ...,\n",
       "        [1251.2019, 1240.3225, 1258.9095,  ..., 1249.8020, 1250.9424,\n",
       "         1255.7256],\n",
       "        [1265.2518, 1261.4303, 1271.9999,  ..., 1269.8590, 1265.4097,\n",
       "         1259.2592],\n",
       "        [1239.0614, 1234.3881, 1262.3177,  ..., 1238.6617, 1253.4901,\n",
       "         1244.6893]])"
      ]
     },
     "execution_count": 42,
     "metadata": {},
     "output_type": "execute_result"
    }
   ],
   "source": [
    "%%time\n",
    "torch.matmul(tensor4_cpu, tensor4_cpu)"
   ]
  },
  {
   "cell_type": "code",
   "execution_count": 43,
   "id": "d6e3b1e1-1bb4-4192-8895-656e09e2ddde",
   "metadata": {
    "tags": []
   },
   "outputs": [
    {
     "name": "stdout",
     "output_type": "stream",
     "text": [
      "CPU times: total: 1.12 s\n",
      "Wall time: 225 ms\n"
     ]
    },
    {
     "data": {
      "text/plain": [
       "tensor([[1253.9142, 1247.1069, 1264.6428,  ..., 1262.2129, 1273.8029,\n",
       "         1276.9932],\n",
       "        [1231.5583, 1230.7554, 1249.3975,  ..., 1245.3059, 1247.9601,\n",
       "         1236.6127],\n",
       "        [1252.9933, 1242.7959, 1283.0114,  ..., 1263.6041, 1266.8762,\n",
       "         1250.8005],\n",
       "        ...,\n",
       "        [1251.9388, 1240.2405, 1249.8265,  ..., 1262.1411, 1256.9944,\n",
       "         1256.6808],\n",
       "        [1259.8948, 1250.7782, 1277.3125,  ..., 1278.1216, 1276.3911,\n",
       "         1266.3247],\n",
       "        [1236.0865, 1232.8297, 1266.3579,  ..., 1261.4054, 1245.4670,\n",
       "         1251.6779]], device='cuda:0')"
      ]
     },
     "execution_count": 43,
     "metadata": {},
     "output_type": "execute_result"
    }
   ],
   "source": [
    "%%time\n",
    "torch.matmul(tensor4_gpu, tensor4_gpu)"
   ]
  },
  {
   "cell_type": "markdown",
   "id": "e7ed8698-1f30-4446-aec6-cf3f35164469",
   "metadata": {
    "jp-MarkdownHeadingCollapsed": true,
    "tags": []
   },
   "source": [
    "## Statistics of a Tensor"
   ]
  },
  {
   "cell_type": "markdown",
   "id": "09680d4b-507d-4cb0-b176-c0dc9d7c9add",
   "metadata": {
    "tags": []
   },
   "source": [
    "### min(), max(), sum(), median() and mean()"
   ]
  },
  {
   "cell_type": "code",
   "execution_count": 44,
   "id": "889710fa-0500-41b0-98b8-5f5785638636",
   "metadata": {},
   "outputs": [
    {
     "data": {
      "text/plain": [
       "tensor([  0.,  10.,  20.,  30.,  40.,  50.,  60.,  70.,  80.,  90., 100.])"
      ]
     },
     "execution_count": 44,
     "metadata": {},
     "output_type": "execute_result"
    }
   ],
   "source": [
    "tensor5 = torch.tensor([0, 10, 20, 30, 40, 50, 60, 70, 80, 90, 100], dtype=torch.float32)\n",
    "tensor5"
   ]
  },
  {
   "cell_type": "code",
   "execution_count": 45,
   "id": "c4935148-5dc9-4891-b829-324358e2b9c9",
   "metadata": {
    "tags": []
   },
   "outputs": [
    {
     "name": "stdout",
     "output_type": "stream",
     "text": [
      "Max: 100.0\n",
      "Position of max (argmax): 10\n"
     ]
    }
   ],
   "source": [
    "# Max\n",
    "\n",
    "print(f\"Max: {tensor5.max()}\")\n",
    "print(f\"Position of max (argmax): {tensor5.argmax()}\")"
   ]
  },
  {
   "cell_type": "code",
   "execution_count": 46,
   "id": "e5dc637f-4b8c-4335-a563-99cc77879064",
   "metadata": {
    "tags": []
   },
   "outputs": [
    {
     "name": "stdout",
     "output_type": "stream",
     "text": [
      "Min: 0.0\n",
      "Position of min (argmin): 0\n"
     ]
    }
   ],
   "source": [
    "# Min\n",
    "\n",
    "print(f\"Min: {tensor5.min()}\")\n",
    "print(f\"Position of min (argmin): {tensor5.argmin()}\")"
   ]
  },
  {
   "cell_type": "code",
   "execution_count": 47,
   "id": "679e0b49-d7d6-4ef8-84b6-3e31a3fbd33c",
   "metadata": {
    "tags": []
   },
   "outputs": [
    {
     "name": "stdout",
     "output_type": "stream",
     "text": [
      "Sum: 550.0\n",
      "Median: 50.0\n",
      "Mean: 50.0\n"
     ]
    }
   ],
   "source": [
    "# Others\n",
    "\n",
    "print(f\"Sum: {tensor5.sum()}\")\n",
    "print(f\"Median: {tensor5.median()}\")\n",
    "print(f\"Mean: {tensor5.mean()}\")"
   ]
  },
  {
   "cell_type": "code",
   "execution_count": 48,
   "id": "e63b558c-34a0-457b-8ec0-65ed5c2a41ed",
   "metadata": {
    "tags": []
   },
   "outputs": [
    {
     "data": {
      "text/plain": [
       "tensor([[[ 1.,  2.,  3.],\n",
       "         [ 4.,  5.,  6.]],\n",
       "\n",
       "        [[ 7.,  8.,  9.],\n",
       "         [10., 11., 12.]]])"
      ]
     },
     "execution_count": 48,
     "metadata": {},
     "output_type": "execute_result"
    }
   ],
   "source": [
    "tensor6 = torch.tensor([[[1, 2, 3], [4, 5, 6]], [[7, 8, 9], [10, 11, 12]]], dtype=torch.float32)\n",
    "tensor6"
   ]
  },
  {
   "cell_type": "code",
   "execution_count": 49,
   "id": "2a401fab-99d6-4dcb-814b-a0291e304b31",
   "metadata": {
    "tags": []
   },
   "outputs": [
    {
     "name": "stdout",
     "output_type": "stream",
     "text": [
      "Max: 12.0\n",
      "Position of max (argmax): 11\n",
      "Min: 1.0\n",
      "Position of min (argmin): 0\n",
      "Sum: 78.0\n",
      "Median: 6.0\n",
      "Mean: 6.5\n"
     ]
    }
   ],
   "source": [
    "# Stats from this new tensor\n",
    "\n",
    "print(f\"Max: {tensor6.max()}\")\n",
    "print(f\"Position of max (argmax): {tensor6.argmax()}\")\n",
    "print(f\"Min: {tensor6.min()}\")\n",
    "print(f\"Position of min (argmin): {tensor6.argmin()}\")\n",
    "print(f\"Sum: {tensor6.sum()}\")\n",
    "print(f\"Median: {tensor6.median()}\")\n",
    "print(f\"Mean: {tensor6.mean()}\")"
   ]
  },
  {
   "cell_type": "markdown",
   "id": "d9a80d3d-f298-4be9-936c-0c7ecf5b4fbe",
   "metadata": {
    "jp-MarkdownHeadingCollapsed": true,
    "tags": []
   },
   "source": [
    "## Tensor Combination and Resizing"
   ]
  },
  {
   "cell_type": "markdown",
   "id": "65794d90-1b29-450e-9ccd-8e2720031e47",
   "metadata": {
    "jp-MarkdownHeadingCollapsed": true,
    "tags": []
   },
   "source": [
    "### Reshape"
   ]
  },
  {
   "cell_type": "code",
   "execution_count": 50,
   "id": "1703956a-1d76-4810-bc01-4e379cd2dfdc",
   "metadata": {
    "tags": []
   },
   "outputs": [
    {
     "name": "stdout",
     "output_type": "stream",
     "text": [
      "tensor([ 1.0000,  5.3000,  9.6000, 13.9000, 18.2000, 22.5000, 26.8000, 31.1000,\n",
      "        35.4000, 39.7000, 44.0000, 48.3000])\n",
      "torch.Size([12])\n"
     ]
    }
   ],
   "source": [
    "# Reshaping: Transform a tensor into a new one with a different legal shape\n",
    "\n",
    "tensor7 = torch.arange(1, 50, 4.3)\n",
    "print(tensor7)\n",
    "print(tensor7.size())"
   ]
  },
  {
   "cell_type": "code",
   "execution_count": 51,
   "id": "250e4d38-e7d7-418c-ae30-fbf6c5265efb",
   "metadata": {
    "tags": []
   },
   "outputs": [
    {
     "name": "stdout",
     "output_type": "stream",
     "text": [
      "tensor([[ 1.0000,  5.3000,  9.6000, 13.9000, 18.2000, 22.5000],\n",
      "        [26.8000, 31.1000, 35.4000, 39.7000, 44.0000, 48.3000]])\n",
      "torch.Size([2, 6])\n"
     ]
    }
   ],
   "source": [
    "tensor7_reshape1 = tensor7.reshape(2, 6)\n",
    "print(tensor7_reshape1)\n",
    "print(tensor7_reshape1.size())"
   ]
  },
  {
   "cell_type": "code",
   "execution_count": 52,
   "id": "37ab7701-6b01-44c9-8d1e-0aba388c11b6",
   "metadata": {
    "tags": []
   },
   "outputs": [
    {
     "name": "stdout",
     "output_type": "stream",
     "text": [
      "tensor([[[ 1.0000,  5.3000,  9.6000],\n",
      "         [13.9000, 18.2000, 22.5000]],\n",
      "\n",
      "        [[26.8000, 31.1000, 35.4000],\n",
      "         [39.7000, 44.0000, 48.3000]]])\n",
      "torch.Size([2, 2, 3])\n"
     ]
    }
   ],
   "source": [
    "tensor7_reshape2 = tensor7.reshape(2, 2, 3)\n",
    "print(tensor7_reshape2)\n",
    "print(tensor7_reshape2.size())"
   ]
  },
  {
   "cell_type": "markdown",
   "id": "83899a4e-0341-4266-8350-c33293e1f563",
   "metadata": {
    "jp-MarkdownHeadingCollapsed": true,
    "tags": []
   },
   "source": [
    "### View"
   ]
  },
  {
   "cell_type": "code",
   "execution_count": 53,
   "id": "bbd8161c-3ee0-4d44-b0de-903efae610bd",
   "metadata": {
    "tags": []
   },
   "outputs": [
    {
     "name": "stdout",
     "output_type": "stream",
     "text": [
      "Tensor 7 view: tensor([[ 1.7700,  1.7700,  1.7700,  1.7700,  1.7700,  1.7700],\n",
      "        [ 1.7700, 31.1000, 35.4000, 39.7000, 44.0000, 48.3000]])\n",
      "Tensor 7: tensor([ 1.7700,  1.7700,  1.7700,  1.7700,  1.7700,  1.7700,  1.7700, 31.1000,\n",
      "        35.4000, 39.7000, 44.0000, 48.3000])\n"
     ]
    }
   ],
   "source": [
    "# View: Same as the reference to an object (tensor). Modifications to a view's VALUES, modify the original's\n",
    "\n",
    "tensor7_view = tensor7.view(12)\n",
    "tensor7_view[:7] = 1.77\n",
    "tensor7_view = tensor7_view.reshape(2, 6)\n",
    "print(f\"Tensor 7 view: {tensor7_view}\")\n",
    "print(f\"Tensor 7: {tensor7}\")"
   ]
  },
  {
   "cell_type": "markdown",
   "id": "7ebaf8b2-9219-470f-9da4-105e9164502b",
   "metadata": {
    "jp-MarkdownHeadingCollapsed": true,
    "tags": []
   },
   "source": [
    "### Vertical Stacking (vstack)"
   ]
  },
  {
   "cell_type": "code",
   "execution_count": 54,
   "id": "215e6bcb-b052-40bb-8a47-c0f498c5e926",
   "metadata": {
    "tags": []
   },
   "outputs": [
    {
     "name": "stdout",
     "output_type": "stream",
     "text": [
      "Stack of dim 0: tensor([[ 1.7700,  1.7700,  1.7700,  1.7700,  1.7700,  1.7700,  1.7700, 31.1000,\n",
      "         35.4000, 39.7000, 44.0000, 48.3000],\n",
      "        [ 1.7700,  1.7700,  1.7700,  1.7700,  1.7700,  1.7700,  1.7700, 31.1000,\n",
      "         35.4000, 39.7000, 44.0000, 48.3000],\n",
      "        [ 1.7700,  1.7700,  1.7700,  1.7700,  1.7700,  1.7700,  1.7700, 31.1000,\n",
      "         35.4000, 39.7000, 44.0000, 48.3000],\n",
      "        [ 1.7700,  1.7700,  1.7700,  1.7700,  1.7700,  1.7700,  1.7700, 31.1000,\n",
      "         35.4000, 39.7000, 44.0000, 48.3000]])\n",
      "Shape: torch.Size([4, 12])\n"
     ]
    }
   ],
   "source": [
    "# Stack: concatenates tensors as defined in the input\n",
    "\n",
    "tensor7_stack = torch.stack([tensor7, tensor7, tensor7, tensor7])\n",
    "print(f\"Stack of dim 0: {tensor7_stack}\\nShape: {tensor7_stack.shape}\")"
   ]
  },
  {
   "cell_type": "code",
   "execution_count": 55,
   "id": "18c62330-42e0-4010-a9dd-591fb9fe4f83",
   "metadata": {
    "tags": []
   },
   "outputs": [
    {
     "name": "stdout",
     "output_type": "stream",
     "text": [
      "Stack of dim 1: tensor([[ 1.7700,  1.7700,  1.7700,  1.7700],\n",
      "        [ 1.7700,  1.7700,  1.7700,  1.7700],\n",
      "        [ 1.7700,  1.7700,  1.7700,  1.7700],\n",
      "        [ 1.7700,  1.7700,  1.7700,  1.7700],\n",
      "        [ 1.7700,  1.7700,  1.7700,  1.7700],\n",
      "        [ 1.7700,  1.7700,  1.7700,  1.7700],\n",
      "        [ 1.7700,  1.7700,  1.7700,  1.7700],\n",
      "        [31.1000, 31.1000, 31.1000, 31.1000],\n",
      "        [35.4000, 35.4000, 35.4000, 35.4000],\n",
      "        [39.7000, 39.7000, 39.7000, 39.7000],\n",
      "        [44.0000, 44.0000, 44.0000, 44.0000],\n",
      "        [48.3000, 48.3000, 48.3000, 48.3000]])\n",
      "Shape: torch.Size([12, 4])\n"
     ]
    }
   ],
   "source": [
    "# Stack of dim 1: dim defines in what dimension (position of shape vector) shall the stacking occur\n",
    "\n",
    "tensor7_stack1 = torch.stack([tensor7, tensor7, tensor7, tensor7], dim=1)\n",
    "print(f\"Stack of dim 1: {tensor7_stack1}\\nShape: {tensor7_stack1.shape}\")"
   ]
  },
  {
   "cell_type": "code",
   "execution_count": 56,
   "id": "29798ee8-172d-4362-8b3d-e47a606c3352",
   "metadata": {
    "tags": []
   },
   "outputs": [
    {
     "name": "stdout",
     "output_type": "stream",
     "text": [
      "New tensor 7: tensor([[[ 1.7700,  1.7700,  1.7700],\n",
      "         [ 1.7700,  1.7700,  1.7700]],\n",
      "\n",
      "        [[ 1.7700, 31.1000, 35.4000],\n",
      "         [39.7000, 44.0000, 48.3000]]])\n",
      "Shape: torch.Size([2, 2, 3])\n",
      "\n",
      "Stack of dim 1: tensor([[[[ 1.7700,  1.7700,  1.7700],\n",
      "          [ 1.7700,  1.7700,  1.7700],\n",
      "          [ 1.7700,  1.7700,  1.7700],\n",
      "          [ 1.7700,  1.7700,  1.7700]],\n",
      "\n",
      "         [[ 1.7700,  1.7700,  1.7700],\n",
      "          [ 1.7700,  1.7700,  1.7700],\n",
      "          [ 1.7700,  1.7700,  1.7700],\n",
      "          [ 1.7700,  1.7700,  1.7700]]],\n",
      "\n",
      "\n",
      "        [[[ 1.7700, 31.1000, 35.4000],\n",
      "          [ 1.7700, 31.1000, 35.4000],\n",
      "          [ 1.7700, 31.1000, 35.4000],\n",
      "          [ 1.7700, 31.1000, 35.4000]],\n",
      "\n",
      "         [[39.7000, 44.0000, 48.3000],\n",
      "          [39.7000, 44.0000, 48.3000],\n",
      "          [39.7000, 44.0000, 48.3000],\n",
      "          [39.7000, 44.0000, 48.3000]]]])\n",
      "Shape: torch.Size([2, 2, 4, 3])\n"
     ]
    }
   ],
   "source": [
    "# Stack of dim 2\n",
    "\n",
    "tensor7 = tensor7.reshape(2, 2, 3)\n",
    "tensor7_stack2 = torch.stack([tensor7, tensor7, tensor7, tensor7], dim=2)\n",
    "print(f\"New tensor 7: {tensor7}\\nShape: {tensor7.shape}\\n\")\n",
    "print(f\"Stack of dim 1: {tensor7_stack2}\\nShape: {tensor7_stack2.shape}\")"
   ]
  },
  {
   "cell_type": "markdown",
   "id": "6bf8bc0e-35a6-40fd-8398-b84360b75814",
   "metadata": {
    "tags": []
   },
   "source": [
    "### Squeeze, Unsqueeze and Permutation"
   ]
  },
  {
   "cell_type": "code",
   "execution_count": 57,
   "id": "5d4ab5bf-d7e4-4365-af8e-1cd2cbebd249",
   "metadata": {
    "tags": []
   },
   "outputs": [
    {
     "name": "stdout",
     "output_type": "stream",
     "text": [
      "Before squeeze: tensor([[[[[[ 1.7700,  1.7700,  1.7700]],\n",
      "\n",
      "           [[ 1.7700,  1.7700,  1.7700]]],\n",
      "\n",
      "\n",
      "          [[[ 1.7700, 31.1000, 35.4000]],\n",
      "\n",
      "           [[39.7000, 44.0000, 48.3000]]]]]])\n",
      "Shape: torch.Size([1, 1, 2, 2, 1, 3])\n",
      "\n",
      "After squeeze: tensor([[[ 1.7700,  1.7700,  1.7700],\n",
      "         [ 1.7700,  1.7700,  1.7700]],\n",
      "\n",
      "        [[ 1.7700, 31.1000, 35.4000],\n",
      "         [39.7000, 44.0000, 48.3000]]])\n",
      "Shape: torch.Size([2, 2, 3])\n"
     ]
    }
   ],
   "source": [
    "# Squeeze: removes all dimensions of length 1\n",
    "\n",
    "tensor7 = tensor7.reshape(1, 1, 2, 2, 1, 3)\n",
    "tensor7_squeeze = tensor7.squeeze()\n",
    "print(f\"Before squeeze: {tensor7}\\nShape: {tensor7.shape}\\n\")\n",
    "print(f\"After squeeze: {tensor7_squeeze}\\nShape: {tensor7_squeeze.shape}\")"
   ]
  },
  {
   "cell_type": "code",
   "execution_count": 58,
   "id": "15d625a8-f425-4921-a9d4-29cd44839802",
   "metadata": {
    "tags": []
   },
   "outputs": [
    {
     "name": "stdout",
     "output_type": "stream",
     "text": [
      "Before unsqueeze: tensor([[[ 1.7700,  1.7700,  1.7700],\n",
      "         [ 1.7700,  1.7700,  1.7700]],\n",
      "\n",
      "        [[ 1.7700, 31.1000, 35.4000],\n",
      "         [39.7000, 44.0000, 48.3000]]])\n",
      "Shape: torch.Size([2, 2, 3])\n",
      "\n",
      "After unsqueeze: tensor([[[[ 1.7700,  1.7700,  1.7700],\n",
      "          [ 1.7700,  1.7700,  1.7700]]],\n",
      "\n",
      "\n",
      "        [[[ 1.7700, 31.1000, 35.4000],\n",
      "          [39.7000, 44.0000, 48.3000]]]])\n",
      "Shape: torch.Size([2, 1, 2, 3])\n"
     ]
    }
   ],
   "source": [
    "# Unsqueeze: adds a dimension at the specified dimension\n",
    "\n",
    "tensor7_unsqueeze = tensor7_squeeze.unsqueeze(dim=1)\n",
    "print(f\"Before unsqueeze: {tensor7_squeeze}\\nShape: {tensor7_squeeze.shape}\\n\")\n",
    "print(f\"After unsqueeze: {tensor7_unsqueeze}\\nShape: {tensor7_unsqueeze.shape}\")"
   ]
  },
  {
   "cell_type": "code",
   "execution_count": 59,
   "id": "0d08699c-8b04-43e9-9d4c-f869e0ef8b79",
   "metadata": {
    "tags": []
   },
   "outputs": [
    {
     "name": "stdout",
     "output_type": "stream",
     "text": [
      "Old shape: torch.Size([128, 128, 3])\n",
      "New shape: torch.Size([3, 128, 128])\n"
     ]
    }
   ],
   "source": [
    "# Permutation: shifts the dimensions' axis to a new specified permutation\n",
    "\n",
    "tensor8 = torch.rand(size=[128, 128, 3])\n",
    "tensor8_permute = tensor8.permute(2, 0, 1)\n",
    "print(f\"Old shape: {tensor8.shape}\")\n",
    "print(f\"New shape: {tensor8_permute.shape}\")\n",
    "\n",
    "# Explanation: 2nd index dim shifts to 0th index dimension in new tensor, 0th to 1st and 1st to 2nd"
   ]
  },
  {
   "cell_type": "markdown",
   "id": "b409f09c-7fa1-4c14-8939-6d7979120620",
   "metadata": {
    "jp-MarkdownHeadingCollapsed": true,
    "tags": []
   },
   "source": [
    "## Tensor Indexing"
   ]
  },
  {
   "cell_type": "code",
   "execution_count": 60,
   "id": "c5fdebb1-59c2-4756-bedd-5efebce01400",
   "metadata": {
    "tags": []
   },
   "outputs": [
    {
     "data": {
      "text/plain": [
       "tensor([[[1, 2, 3],\n",
       "         [4, 5, 6],\n",
       "         [7, 8, 9]]])"
      ]
     },
     "execution_count": 60,
     "metadata": {},
     "output_type": "execute_result"
    }
   ],
   "source": [
    "# Indexing: Same as getting list indexes\n",
    "\n",
    "tensor9 = torch.arange(1, 10).reshape(1, 3, 3)\n",
    "tensor9\n",
    "\n",
    "# Note: Pytorch tensors aren't the same as Python's (Pytorch -> index dimensions; Python -> index array)"
   ]
  },
  {
   "cell_type": "code",
   "execution_count": 61,
   "id": "8a1b580d-a3b2-445d-8383-9791752d3057",
   "metadata": {
    "tags": []
   },
   "outputs": [
    {
     "data": {
      "text/plain": [
       "(tensor(1), tensor(1))"
      ]
     },
     "execution_count": 61,
     "metadata": {},
     "output_type": "execute_result"
    }
   ],
   "source": [
    "# Select first element of the tensor\n",
    "\n",
    "tensor9[0][0][0], tensor9[0, 0, 0]"
   ]
  },
  {
   "cell_type": "code",
   "execution_count": 62,
   "id": "f8f6e513-0fbc-4d2f-8f13-250ff101cf36",
   "metadata": {
    "tags": []
   },
   "outputs": [
    {
     "data": {
      "text/plain": [
       "(tensor([7, 8, 9]), tensor([7, 8, 9]))"
      ]
     },
     "execution_count": 62,
     "metadata": {},
     "output_type": "execute_result"
    }
   ],
   "source": [
    "# Select last array of the tensor\n",
    "# Note: The semicolon (:) selects all elements in that dimension\n",
    "\n",
    "tensor9[0][-1], tensor9[0, -1, :]"
   ]
  },
  {
   "cell_type": "code",
   "execution_count": 63,
   "id": "56a28531-c348-47d8-807d-cf9b2ae86653",
   "metadata": {
    "tags": []
   },
   "outputs": [
    {
     "data": {
      "text/plain": [
       "tensor([2, 5, 8])"
      ]
     },
     "execution_count": 63,
     "metadata": {},
     "output_type": "execute_result"
    }
   ],
   "source": [
    "# Select all the 2nd values of each 0th dimension\n",
    "\n",
    "tensor9[0, :, 1]"
   ]
  },
  {
   "cell_type": "code",
   "execution_count": 64,
   "id": "b31b3f08-c826-42ce-a70a-8994d21f9a7b",
   "metadata": {
    "tags": []
   },
   "outputs": [
    {
     "data": {
      "text/plain": [
       "tensor([[2, 3],\n",
       "        [5, 6]])"
      ]
     },
     "execution_count": 64,
     "metadata": {},
     "output_type": "execute_result"
    }
   ],
   "source": [
    "# Select the last 2 values of the first 2 dimensions\n",
    "\n",
    "tensor9[0, :2, 1:]"
   ]
  },
  {
   "cell_type": "markdown",
   "id": "453fa52b-13b2-4594-adca-2e6ae601066e",
   "metadata": {
    "jp-MarkdownHeadingCollapsed": true,
    "tags": []
   },
   "source": [
    "## PyTorch and NumPy "
   ]
  },
  {
   "cell_type": "code",
   "execution_count": 65,
   "id": "7123a321-06f2-4359-8f7e-0d1b5d2007d6",
   "metadata": {
    "tags": []
   },
   "outputs": [
    {
     "name": "stdout",
     "output_type": "stream",
     "text": [
      "NumPy array: [1. 2. 3. 4. 5. 6. 7. 8. 9.]\n",
      "Data Type: float64\n",
      "PyTorch tensor: tensor([1., 2., 3., 4., 5., 6., 7., 8., 9.], dtype=torch.float64)\n",
      "Data Type: torch.float64\n"
     ]
    }
   ],
   "source": [
    "# Numpy arrays and the from_numpy method\n",
    "# Note: This aims to show that PyTorch inherits the NumPy array data types and vice-versa\n",
    "\n",
    "array1 = np.arange(1.0, 10.0)\n",
    "tensor10 = torch.from_numpy(array1)\n",
    "print(f\"NumPy array: {array1}\\nData Type: {array1.dtype}\")\n",
    "print(f\"PyTorch tensor: {tensor10}\\nData Type: {tensor10.dtype}\")"
   ]
  },
  {
   "cell_type": "code",
   "execution_count": 66,
   "id": "1a212a1e-dfa6-4f61-b4c2-ea521bf878d5",
   "metadata": {
    "tags": []
   },
   "outputs": [
    {
     "name": "stdout",
     "output_type": "stream",
     "text": [
      "PyTorch tensor: tensor([0.1377, 0.0520, 0.8290, 0.1684, 0.0207])\n",
      "Data Type: torch.float32\n",
      "NumPy array: [0.13769823 0.05196977 0.8290323  0.16839749 0.02068156]\n",
      "Data Type: float32\n"
     ]
    }
   ],
   "source": [
    "# Pytorch arrays and numpy method\n",
    "\n",
    "tensor11 = torch.rand(size=[5])\n",
    "array2 = tensor11.numpy()\n",
    "print(f\"PyTorch tensor: {tensor11}\\nData Type: {tensor11.dtype}\")\n",
    "print(f\"NumPy array: {array2}\\nData Type: {array2.dtype}\")"
   ]
  },
  {
   "cell_type": "markdown",
   "id": "8a7adcf0-144e-4673-b661-61a8ff6078b5",
   "metadata": {
    "tags": []
   },
   "source": [
    "## Reproducing results (non-random random tensors)"
   ]
  },
  {
   "cell_type": "code",
   "execution_count": 67,
   "id": "66a81408-28e7-457a-977e-9e67c761c79c",
   "metadata": {
    "tags": []
   },
   "outputs": [
    {
     "name": "stdout",
     "output_type": "stream",
     "text": [
      "tensor([[0.3648, 0.6557, 0.6869],\n",
      "        [0.1514, 0.9014, 0.7746],\n",
      "        [0.8258, 0.3828, 0.9701]])\n",
      "\n",
      "tensor([[0.2080, 0.4705, 0.7515],\n",
      "        [0.9977, 0.3006, 0.0906],\n",
      "        [0.5786, 0.1825, 0.6317]])\n",
      "\n",
      "tensor([[False, False, False],\n",
      "        [False, False, False],\n",
      "        [False, False, False]])\n"
     ]
    }
   ],
   "source": [
    "# The rand() method generates a pseudorandom tensor based on a random seed\n",
    "\n",
    "tensor12 = torch.rand(size=[3, 3])\n",
    "tensor13 = torch.rand(size=[3, 3])\n",
    "\n",
    "print(f\"{tensor12}\\n\")\n",
    "print(f\"{tensor13}\\n\")\n",
    "print(tensor12 == tensor13)"
   ]
  },
  {
   "cell_type": "code",
   "execution_count": 68,
   "id": "0d0f0b24-0d2f-4cf3-a764-1ee9f2c597c4",
   "metadata": {
    "tags": []
   },
   "outputs": [
    {
     "name": "stdout",
     "output_type": "stream",
     "text": [
      "tensor([[0.8823, 0.9150, 0.3829],\n",
      "        [0.9593, 0.3904, 0.6009],\n",
      "        [0.2566, 0.7936, 0.9408],\n",
      "        [0.1332, 0.9346, 0.5936]])\n",
      "\n",
      "tensor([[0.8823, 0.9150, 0.3829],\n",
      "        [0.9593, 0.3904, 0.6009],\n",
      "        [0.2566, 0.7936, 0.9408],\n",
      "        [0.1332, 0.9346, 0.5936]])\n",
      "\n",
      "tensor([[True, True, True],\n",
      "        [True, True, True],\n",
      "        [True, True, True],\n",
      "        [True, True, True]])\n"
     ]
    }
   ],
   "source": [
    "# manual_seed(): The next random tensor will be generated on the given seed (argument)\n",
    "\n",
    "SEED = 42\n",
    "torch.manual_seed(SEED)\n",
    "tensor14 = torch.rand(size=[4, 3])\n",
    "torch.manual_seed(SEED)\n",
    "tensor15 = torch.rand(size=[4, 3])\n",
    "\n",
    "print(f\"{tensor14}\\n\")\n",
    "print(f\"{tensor15}\\n\")\n",
    "print(tensor14 == tensor15)"
   ]
  },
  {
   "cell_type": "code",
   "execution_count": null,
   "id": "93ac17ac-c185-45ba-887b-93bb9816b4d1",
   "metadata": {},
   "outputs": [],
   "source": []
  },
  {
   "cell_type": "markdown",
   "id": "1a029232-63df-401e-8cf5-8fb69b4b381d",
   "metadata": {
    "jp-MarkdownHeadingCollapsed": true,
    "tags": []
   },
   "source": [
    "# Setting up (device agnostic code)"
   ]
  },
  {
   "cell_type": "code",
   "execution_count": 69,
   "id": "bc098f03-d3d2-441b-a250-dc0ac85d8e6e",
   "metadata": {
    "tags": []
   },
   "outputs": [
    {
     "name": "stdout",
     "output_type": "stream",
     "text": [
      "Tue Oct 10 23:00:35 2023       \n",
      "+---------------------------------------------------------------------------------------+\n",
      "| NVIDIA-SMI 536.99                 Driver Version: 536.99       CUDA Version: 12.2     |\n",
      "|-----------------------------------------+----------------------+----------------------+\n",
      "| GPU  Name                     TCC/WDDM  | Bus-Id        Disp.A | Volatile Uncorr. ECC |\n",
      "| Fan  Temp   Perf          Pwr:Usage/Cap |         Memory-Usage | GPU-Util  Compute M. |\n",
      "|                                         |                      |               MIG M. |\n",
      "|=========================================+======================+======================|\n",
      "|   0  NVIDIA GeForce GTX 1050 Ti   WDDM  | 00000000:01:00.0  On |                  N/A |\n",
      "| 28%   36C    P0              N/A /  75W |   1336MiB /  4096MiB |      2%      Default |\n",
      "|                                         |                      |                  N/A |\n",
      "+-----------------------------------------+----------------------+----------------------+\n",
      "                                                                                         \n",
      "+---------------------------------------------------------------------------------------+\n",
      "| Processes:                                                                            |\n",
      "|  GPU   GI   CI        PID   Type   Process name                            GPU Memory |\n",
      "|        ID   ID                                                             Usage      |\n",
      "|=======================================================================================|\n",
      "|    0   N/A  N/A      1180    C+G   ...al\\Discord\\app-1.0.9018\\Discord.exe    N/A      |\n",
      "|    0   N/A  N/A      2468    C+G   ...5n1h2txyewy\\ShellExperienceHost.exe    N/A      |\n",
      "|    0   N/A  N/A      2932    C+G   ...m Files\\Mozilla Firefox\\firefox.exe    N/A      |\n",
      "|    0   N/A  N/A      6652    C+G   C:\\Windows\\explorer.exe                   N/A      |\n",
      "|    0   N/A  N/A      6684    C+G   ...t.LockApp_cw5n1h2txyewy\\LockApp.exe    N/A      |\n",
      "|    0   N/A  N/A      6784    C+G   ...m Files\\Mozilla Firefox\\firefox.exe    N/A      |\n",
      "|    0   N/A  N/A      7116    C+G   ...GeForce Experience\\NVIDIA Share.exe    N/A      |\n",
      "|    0   N/A  N/A      8400    C+G   ...cal\\Microsoft\\OneDrive\\OneDrive.exe    N/A      |\n",
      "|    0   N/A  N/A      8816    C+G   ....Search_cw5n1h2txyewy\\SearchApp.exe    N/A      |\n",
      "|    0   N/A  N/A     10072    C+G   ...siveControlPanel\\SystemSettings.exe    N/A      |\n",
      "|    0   N/A  N/A     10672    C+G   ...GeForce Experience\\NVIDIA Share.exe    N/A      |\n",
      "|    0   N/A  N/A     11436    C+G   ...CBS_cw5n1h2txyewy\\TextInputHost.exe    N/A      |\n",
      "|    0   N/A  N/A     11852    C+G   ...Files\\DAEMON Tools Lite\\DTAgent.exe    N/A      |\n",
      "|    0   N/A  N/A     11956    C+G   ...\\Programs\\LNV\\Stremio-4\\stremio.exe    N/A      |\n",
      "|    0   N/A  N/A     14260      C   ...i\\anaconda3\\envs\\pytorch\\python.exe    N/A      |\n",
      "+---------------------------------------------------------------------------------------+\n"
     ]
    }
   ],
   "source": [
    "!nvidia-smi"
   ]
  },
  {
   "cell_type": "code",
   "execution_count": 70,
   "id": "32c62c02-6c91-4e0c-bcea-8be72cdba6c7",
   "metadata": {
    "tags": []
   },
   "outputs": [
    {
     "data": {
      "text/plain": [
       "'cuda'"
      ]
     },
     "execution_count": 70,
     "metadata": {},
     "output_type": "execute_result"
    }
   ],
   "source": [
    "# Check if GPU is available\n",
    "\n",
    "device = 'cuda' if torch.cuda.is_available() else 'cpu'\n",
    "device"
   ]
  },
  {
   "cell_type": "code",
   "execution_count": 71,
   "id": "bb847096-f6fa-48a7-804e-dda2ea5daa14",
   "metadata": {
    "tags": []
   },
   "outputs": [
    {
     "data": {
      "text/plain": [
       "1"
      ]
     },
     "execution_count": 71,
     "metadata": {},
     "output_type": "execute_result"
    }
   ],
   "source": [
    "# Number of GPUs\n",
    "\n",
    "torch.cuda.device_count()"
   ]
  },
  {
   "cell_type": "code",
   "execution_count": 72,
   "id": "34e31e65-b57e-45e5-a667-147bdada1aab",
   "metadata": {
    "tags": []
   },
   "outputs": [
    {
     "name": "stdout",
     "output_type": "stream",
     "text": [
      "Initial device: cpu\n",
      "New device: cuda:0\n"
     ]
    }
   ],
   "source": [
    "# Applying agnostic code\n",
    "\n",
    "test_tensor = torch.rand(size=[3, 4])\n",
    "print(f\"Initial device: {test_tensor.device}\")\n",
    "test_tensor = test_tensor.to(device)\n",
    "print(f\"New device: {test_tensor.device}\")"
   ]
  },
  {
   "cell_type": "code",
   "execution_count": 73,
   "id": "16f9077e-d736-4393-92e3-d087b21aadbf",
   "metadata": {
    "tags": []
   },
   "outputs": [
    {
     "ename": "TypeError",
     "evalue": "can't convert cuda:0 device type tensor to numpy. Use Tensor.cpu() to copy the tensor to host memory first.",
     "output_type": "error",
     "traceback": [
      "\u001b[1;31m---------------------------------------------------------------------------\u001b[0m",
      "\u001b[1;31mTypeError\u001b[0m                                 Traceback (most recent call last)",
      "Cell \u001b[1;32mIn[73], line 3\u001b[0m\n\u001b[0;32m      1\u001b[0m \u001b[38;5;66;03m# NumPy and GPUs\u001b[39;00m\n\u001b[1;32m----> 3\u001b[0m test_array \u001b[38;5;241m=\u001b[39m test_tensor\u001b[38;5;241m.\u001b[39mnumpy()\n",
      "\u001b[1;31mTypeError\u001b[0m: can't convert cuda:0 device type tensor to numpy. Use Tensor.cpu() to copy the tensor to host memory first."
     ]
    }
   ],
   "source": [
    "# NumPy and GPUs\n",
    "\n",
    "test_array = test_tensor.numpy()"
   ]
  },
  {
   "cell_type": "code",
   "execution_count": 74,
   "id": "cd562ca1-a9f1-4afb-8d1f-9dd130e137aa",
   "metadata": {
    "tags": []
   },
   "outputs": [
    {
     "data": {
      "text/plain": [
       "array([[0.86940444, 0.5677153 , 0.74109405, 0.4294045 ],\n",
       "       [0.8854429 , 0.57390445, 0.26658005, 0.62744915],\n",
       "       [0.26963168, 0.44136357, 0.29692084, 0.8316855 ]], dtype=float32)"
      ]
     },
     "execution_count": 74,
     "metadata": {},
     "output_type": "execute_result"
    }
   ],
   "source": [
    "test_tensor = test_tensor.cpu()\n",
    "test_array = test_tensor.numpy()\n",
    "test_array\n",
    "\n",
    "# Note: This aims to show that conversions between numpy and pytorch can only occur in CPU"
   ]
  },
  {
   "cell_type": "markdown",
   "id": "c61b8b1e-7b7c-411f-a903-180f505e0154",
   "metadata": {
    "jp-MarkdownHeadingCollapsed": true,
    "tags": [],
    "toc-hr-collapsed": true
   },
   "source": [
    "# Exercises"
   ]
  },
  {
   "cell_type": "markdown",
   "id": "5c3b5f5b-8a78-4f7d-b6ec-1fc6a2c36a0e",
   "metadata": {},
   "source": [
    "### 1. Create a random tensor with shape (7, 7)"
   ]
  },
  {
   "cell_type": "code",
   "execution_count": 76,
   "id": "b17dfa5c-4a8f-4491-8a99-d5de876bbaa7",
   "metadata": {
    "tags": []
   },
   "outputs": [
    {
     "data": {
      "text/plain": [
       "tensor([[0.0874, 0.0041, 0.1088, 0.1637, 0.7025, 0.6790, 0.9155],\n",
       "        [0.2418, 0.1591, 0.7653, 0.2979, 0.8035, 0.3813, 0.7860],\n",
       "        [0.1115, 0.2477, 0.6524, 0.6057, 0.3725, 0.7980, 0.8399],\n",
       "        [0.1374, 0.2331, 0.9578, 0.3313, 0.3227, 0.0162, 0.2137],\n",
       "        [0.6249, 0.4340, 0.1371, 0.5117, 0.1585, 0.0758, 0.2247],\n",
       "        [0.0624, 0.1816, 0.9998, 0.5944, 0.6541, 0.0337, 0.1716],\n",
       "        [0.3336, 0.5782, 0.0600, 0.2846, 0.2007, 0.5014, 0.3139]])"
      ]
     },
     "execution_count": 76,
     "metadata": {},
     "output_type": "execute_result"
    }
   ],
   "source": [
    "tensor16 = torch.rand(size=[7, 7])\n",
    "tensor16"
   ]
  },
  {
   "cell_type": "markdown",
   "id": "f66e11c1-686a-4a00-88b6-c88026593570",
   "metadata": {},
   "source": [
    "### 2. Perform a matrix multiplication on the tensor from 1 with another random tensor with shape (1, 7) (hint: you may have to transpose the second tensor)"
   ]
  },
  {
   "cell_type": "code",
   "execution_count": 79,
   "id": "ab9aa5d6-27ba-4a0d-b7b1-e6a88392ba63",
   "metadata": {
    "tags": []
   },
   "outputs": [
    {
     "data": {
      "text/plain": [
       "tensor([[1.4878],\n",
       "        [1.9067],\n",
       "        [1.7285],\n",
       "        [1.1695],\n",
       "        [0.6551],\n",
       "        [1.4879],\n",
       "        [0.6377]])"
      ]
     },
     "execution_count": 79,
     "metadata": {},
     "output_type": "execute_result"
    }
   ],
   "source": [
    "tensor17 = torch.rand(size=[1, 7]).T\n",
    "tensor16.matmul(tensor17)"
   ]
  },
  {
   "cell_type": "markdown",
   "id": "779b9cc4-012b-41f0-8d3e-8eb22a12c5b9",
   "metadata": {},
   "source": [
    "### 3. Set the random seed to 0 and do 1 & 2 over again"
   ]
  },
  {
   "cell_type": "code",
   "execution_count": 93,
   "id": "0319a535-9b3c-4d79-8b61-df33383199a5",
   "metadata": {
    "tags": []
   },
   "outputs": [
    {
     "data": {
      "text/plain": [
       "tensor([[1.8542],\n",
       "        [1.9611],\n",
       "        [2.2884],\n",
       "        [3.0481],\n",
       "        [1.7067],\n",
       "        [2.5290],\n",
       "        [1.7989]])"
      ]
     },
     "execution_count": 93,
     "metadata": {},
     "output_type": "execute_result"
    }
   ],
   "source": [
    "torch.manual_seed(0)\n",
    "tensor16 = torch.rand(size=[7, 7])\n",
    "tensor17 = torch.rand(size=[1, 7]).T\n",
    "\n",
    "tensor16.matmul(tensor17)"
   ]
  },
  {
   "cell_type": "markdown",
   "id": "4eff2481-2b43-411c-9cc7-87dd566afbf6",
   "metadata": {
    "tags": []
   },
   "source": [
    "### 4. Speaking of random seeds, we saw how to set it with torch.manual_seed() but is there a GPU equivalent? (hint: you'll need to look into the documentation for torch.cuda for this one)"
   ]
  },
  {
   "cell_type": "code",
   "execution_count": 83,
   "id": "df3b67cc-9850-43e1-9dc5-26c57be9fe78",
   "metadata": {
    "tags": []
   },
   "outputs": [
    {
     "data": {
      "text/plain": [
       "tensor([[0.3990, 0.5167, 0.0249],\n",
       "        [0.9401, 0.9459, 0.7967],\n",
       "        [0.4150, 0.8203, 0.2290]], device='cuda:0')"
      ]
     },
     "execution_count": 83,
     "metadata": {},
     "output_type": "execute_result"
    }
   ],
   "source": [
    "torch.cuda.manual_seed(0)\n",
    "tensor18 = torch.rand(size=[3, 3], device='cuda')\n",
    "tensor18"
   ]
  },
  {
   "cell_type": "markdown",
   "id": "cafe3da1-c920-4f6e-9ee9-fa11cfa13bf2",
   "metadata": {},
   "source": [
    "### 5. Create two random tensors of shape (2, 3) and send them both to the GPU (you'll need access to a GPU for this). Set torch.manual_seed(1234) when creating the tensors (this doesn't have to be the GPU random seed)"
   ]
  },
  {
   "cell_type": "code",
   "execution_count": 94,
   "id": "9cdd8083-01a3-4802-b82c-c402ed7f0c51",
   "metadata": {
    "tags": []
   },
   "outputs": [
    {
     "name": "stdout",
     "output_type": "stream",
     "text": [
      "Tensor 19 device: cuda:0\n",
      "Tensor 20 device: cuda:0\n"
     ]
    }
   ],
   "source": [
    "torch.manual_seed(1234)\n",
    "tensor19 = torch.rand(size=[2, 3])\n",
    "tensor20 = torch.rand(size=[2, 3])\n",
    "\n",
    "device = 'cuda' if torch.cuda.is_available() else 'cpu'\n",
    "tensor19 = tensor19.to(device)\n",
    "tensor20 = tensor20.to(device)\n",
    "\n",
    "print(f\"Tensor 19 device: {tensor19.device}\")\n",
    "print(f\"Tensor 20 device: {tensor20.device}\")"
   ]
  },
  {
   "cell_type": "markdown",
   "id": "8d1d4e2c-f2c6-4b03-affb-9507d6d77f29",
   "metadata": {},
   "source": [
    "### 6. Perform a matrix multiplication on the tensors you created in 5 (again, you may have to adjust the shapes of one of the tensors)"
   ]
  },
  {
   "cell_type": "code",
   "execution_count": 95,
   "id": "53ffa97a-e221-4173-8b70-856ca6eedcd2",
   "metadata": {
    "tags": []
   },
   "outputs": [
    {
     "data": {
      "text/plain": [
       "tensor([[0.3647, 0.4709],\n",
       "        [0.5184, 0.5617]], device='cuda:0')"
      ]
     },
     "execution_count": 95,
     "metadata": {},
     "output_type": "execute_result"
    }
   ],
   "source": [
    "tensor21 = tensor19.matmul(tensor20.T)\n",
    "tensor21"
   ]
  },
  {
   "cell_type": "markdown",
   "id": "377dd4b9-69c1-4958-9198-8e2c5bc89e5f",
   "metadata": {},
   "source": [
    "### 7. Find the maximum and minimum values of the output of 6"
   ]
  },
  {
   "cell_type": "code",
   "execution_count": 96,
   "id": "c67c5a56-45a3-4342-abc1-a2b65512d66e",
   "metadata": {
    "tags": []
   },
   "outputs": [
    {
     "name": "stdout",
     "output_type": "stream",
     "text": [
      "Min: 0.3647301495075226\n",
      "Max: 0.5617256760597229\n"
     ]
    }
   ],
   "source": [
    "print(f\"Min: {tensor21.min()}\")\n",
    "print(f\"Max: {tensor21.max()}\")"
   ]
  },
  {
   "cell_type": "markdown",
   "id": "f0f5d5c8-3715-4974-a996-0f8e3877665c",
   "metadata": {},
   "source": [
    "### 8. Find the maximum and minimum index values of the output of 6"
   ]
  },
  {
   "cell_type": "code",
   "execution_count": 97,
   "id": "510c05ce-9f94-4639-b16a-e10b01bd0dbe",
   "metadata": {
    "tags": []
   },
   "outputs": [
    {
     "name": "stdout",
     "output_type": "stream",
     "text": [
      "Position of min: 0\n",
      "Position of min: 3\n"
     ]
    }
   ],
   "source": [
    "print(f\"Position of min: {tensor21.argmin()}\")\n",
    "print(f\"Position of min: {tensor21.argmax()}\")"
   ]
  },
  {
   "cell_type": "markdown",
   "id": "259613c6-4310-41f3-9836-dfbf51490d20",
   "metadata": {},
   "source": [
    "### 9. Make a random tensor with shape (1, 1, 1, 10) and then create a new tensor with all the 1 dimensions removed to be left with a tensor of shape (10). Set the seed to 7 when you create it and print out the first tensor and it's shape as well as the second tensor and it's shape"
   ]
  },
  {
   "cell_type": "code",
   "execution_count": 98,
   "id": "fc0c87a7-182e-4c1e-a93f-7398c6082a89",
   "metadata": {
    "tags": []
   },
   "outputs": [
    {
     "name": "stdout",
     "output_type": "stream",
     "text": [
      "tensor([[[[0.5349, 0.1988, 0.6592, 0.6569, 0.2328, 0.4251, 0.2071, 0.6297,\n",
      "           0.3653, 0.8513]]]])\n",
      "torch.Size([1, 1, 1, 10])\n",
      "tensor([0.5349, 0.1988, 0.6592, 0.6569, 0.2328, 0.4251, 0.2071, 0.6297, 0.3653,\n",
      "        0.8513])\n",
      "torch.Size([10])\n"
     ]
    }
   ],
   "source": [
    "torch.manual_seed(7)\n",
    "tensor22 = torch.rand(size=[1, 1, 1, 10])\n",
    "tensor23 = torch.squeeze(tensor22)\n",
    "\n",
    "print(tensor22)\n",
    "print(tensor22.shape)\n",
    "print(tensor23)\n",
    "print(tensor23.shape)"
   ]
  },
  {
   "cell_type": "code",
   "execution_count": null,
   "id": "a811cd96-86b6-4054-a52b-7b3dc483e0d0",
   "metadata": {},
   "outputs": [],
   "source": []
  }
 ],
 "metadata": {
  "kernelspec": {
   "display_name": "Python 3 (ipykernel)",
   "language": "python",
   "name": "python3"
  },
  "language_info": {
   "codemirror_mode": {
    "name": "ipython",
    "version": 3
   },
   "file_extension": ".py",
   "mimetype": "text/x-python",
   "name": "python",
   "nbconvert_exporter": "python",
   "pygments_lexer": "ipython3",
   "version": "3.11.5"
  },
  "toc-autonumbering": false,
  "toc-showcode": false,
  "toc-showmarkdowntxt": false
 },
 "nbformat": 4,
 "nbformat_minor": 5
}
