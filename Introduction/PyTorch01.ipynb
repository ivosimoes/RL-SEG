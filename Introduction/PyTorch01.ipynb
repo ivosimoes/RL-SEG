{
 "cells": [
  {
   "cell_type": "code",
   "execution_count": 200,
   "id": "47ccd33a-1309-41e0-a6a3-0fedeabf5ba1",
   "metadata": {
    "tags": []
   },
   "outputs": [],
   "source": [
    "import torch\n",
    "from torch import nn\n",
    "import numpy as np\n",
    "import matplotlib.pyplot as plt"
   ]
  },
  {
   "cell_type": "code",
   "execution_count": 201,
   "id": "f265904a-3571-4815-b84e-9da1424ce1a6",
   "metadata": {
    "tags": []
   },
   "outputs": [
    {
     "data": {
      "text/plain": [
       "'2.0.1'"
      ]
     },
     "execution_count": 201,
     "metadata": {},
     "output_type": "execute_result"
    }
   ],
   "source": [
    "torch.__version__"
   ]
  },
  {
   "cell_type": "markdown",
   "id": "788bf858-4d4b-4106-9e8e-ffb0de488d72",
   "metadata": {
    "jp-MarkdownHeadingCollapsed": true,
    "tags": []
   },
   "source": [
    "# Workflow"
   ]
  },
  {
   "cell_type": "markdown",
   "id": "1f439559-a337-43d3-a2e3-140ab11ebff4",
   "metadata": {
    "jp-MarkdownHeadingCollapsed": true,
    "tags": []
   },
   "source": [
    "## Data preparing and loading"
   ]
  },
  {
   "cell_type": "code",
   "execution_count": 202,
   "id": "3f88d441-4799-49b6-927a-b5bcca9b7745",
   "metadata": {
    "tags": []
   },
   "outputs": [
    {
     "data": {
      "text/plain": [
       "(tensor([[0.0000],\n",
       "         [0.0200],\n",
       "         [0.0400],\n",
       "         [0.0600],\n",
       "         [0.0800],\n",
       "         [0.1000],\n",
       "         [0.1200],\n",
       "         [0.1400],\n",
       "         [0.1600],\n",
       "         [0.1800]]),\n",
       " tensor([[1.4000],\n",
       "         [1.4120],\n",
       "         [1.4240],\n",
       "         [1.4360],\n",
       "         [1.4480],\n",
       "         [1.4600],\n",
       "         [1.4720],\n",
       "         [1.4840],\n",
       "         [1.4960],\n",
       "         [1.5080]]))"
      ]
     },
     "execution_count": 202,
     "metadata": {},
     "output_type": "execute_result"
    }
   ],
   "source": [
    "# Create a dataset with linear regressing (linear function)\n",
    "\n",
    "a = 1.4  # Intercept (bias) of X\n",
    "b = 0.6  # Slope (weight) of X\n",
    "\n",
    "start = 0\n",
    "end = 1\n",
    "step = 0.02\n",
    "\n",
    "X = torch.arange(start, end, step).unsqueeze(dim=1)  # Dataset\n",
    "y = b*X + a  # Linear function that model will try to predict\n",
    "\n",
    "X[:10], y[:10]\n",
    "\n",
    "# Objective: build a model to predict the value of y for each X\n",
    "# Note 1: unsqueeze was used to make the print prettier"
   ]
  },
  {
   "cell_type": "code",
   "execution_count": 203,
   "id": "73e3981b-14fd-404c-8300-dc5afab07ea0",
   "metadata": {
    "tags": []
   },
   "outputs": [
    {
     "data": {
      "text/plain": [
       "(40, 40, 10, 10)"
      ]
     },
     "execution_count": 203,
     "metadata": {},
     "output_type": "execute_result"
    }
   ],
   "source": [
    "# Train/Test splitting\n",
    "\n",
    "train_split = int(0.8 * len(X))\n",
    "\n",
    "X_train, y_train = X[:train_split], y[:train_split]\n",
    "X_test, y_test = X[train_split:], y[train_split:]\n",
    "\n",
    "len(X_train), len(y_train), len(X_test), len(y_test)"
   ]
  },
  {
   "cell_type": "code",
   "execution_count": 204,
   "id": "6147056b-7a48-45a9-a6d3-90729ca5aab7",
   "metadata": {
    "tags": []
   },
   "outputs": [
    {
     "data": {
      "image/png": "[encoded data removed]",
      "text/plain": [
       "<Figure size 1000x700 with 1 Axes>"
      ]
     },
     "metadata": {},
     "output_type": "display_data"
    }
   ],
   "source": [
    "# Visualize the data\n",
    "\n",
    "# Function to plot data and (if there are) predictions\n",
    "def plot_data(train_data, train_labels, test_data, test_labels, predictions=None):\n",
    "    plt.figure(figsize=(10, 7))\n",
    "    plt.scatter(X_train, y_train, c='b', s=4, label='Train')\n",
    "    plt.scatter(X_test, y_test, c='y', s=4, label='Test')\n",
    "    \n",
    "    if predictions is not None:\n",
    "        plt.scatter(X_test, predictions, c='r', s=4, label='Predictions')\n",
    "    \n",
    "    plt.legend(prop={\"size\": 14})\n",
    "\n",
    "plot_data(X_train, y_train, X_test, y_test)"
   ]
  },
  {
   "cell_type": "markdown",
   "id": "e6729278-4960-452c-b10b-53422163d33b",
   "metadata": {
    "jp-MarkdownHeadingCollapsed": true,
    "tags": []
   },
   "source": [
    "## Building a model"
   ]
  },
  {
   "cell_type": "code",
   "execution_count": 205,
   "id": "b0478650-941d-49f8-aff9-6332aae1e282",
   "metadata": {
    "tags": []
   },
   "outputs": [],
   "source": [
    "# Build a linear regression model\n",
    "\n",
    "class LinearRegressionModel(nn.Module):\n",
    "    def __init__(self):\n",
    "        super().__init__()  # This class inherits (super()) from the nn.Module class\n",
    "        self.weights = nn.Parameter(torch.randn(1,  # Start with random values\n",
    "                                                requires_grad=True,  # Values may be updated by gradient descent\n",
    "                                                dtype=torch.float32))  # PyTorch main data type\n",
    "        self.bias = nn.Parameter(torch.randn(1,  # Start with random values\n",
    "                                             requires_grad=True,  # Values may be updated by gradient descent\n",
    "                                             dtype=torch.float32))  # PyTorch main data type\n",
    "        \n",
    "    def forward(self, x: torch.Tensor) -> torch.Tensor:  # x is input\n",
    "        return self.weights * x + self.bias  # Forward function (linear)"
   ]
  },
  {
   "cell_type": "code",
   "execution_count": 206,
   "id": "1462c649-aac6-4caf-82a8-7aa8dee4106c",
   "metadata": {
    "tags": []
   },
   "outputs": [
    {
     "name": "stdout",
     "output_type": "stream",
     "text": [
      "[Parameter containing:\n",
      "tensor([0.3367], requires_grad=True), Parameter containing:\n",
      "tensor([0.1288], requires_grad=True)]\n",
      "\n",
      "OrderedDict([('weights', tensor([0.3367])), ('bias', tensor([0.1288]))])\n"
     ]
    }
   ],
   "source": [
    "torch.manual_seed(42)\n",
    "\n",
    "# Initialize an instance of the model\n",
    "model0 = LinearRegressionModel()\n",
    "\n",
    "# List the parameters\n",
    "print(f\"{list(model0.parameters())}\\n\")\n",
    "\n",
    "# List named parameters\n",
    "print(model0.state_dict())"
   ]
  },
  {
   "cell_type": "code",
   "execution_count": 207,
   "id": "31d81001-b603-48ae-b20a-d005dd66ef49",
   "metadata": {
    "tags": []
   },
   "outputs": [
    {
     "data": {
      "text/plain": [
       "tensor([[0.3982],\n",
       "        [0.4049],\n",
       "        [0.4116],\n",
       "        [0.4184],\n",
       "        [0.4251],\n",
       "        [0.4318],\n",
       "        [0.4386],\n",
       "        [0.4453],\n",
       "        [0.4520],\n",
       "        [0.4588]])"
      ]
     },
     "execution_count": 207,
     "metadata": {},
     "output_type": "execute_result"
    }
   ],
   "source": [
    "# Make predictions\n",
    "with torch.inference_mode():  # Disables gradient tracking, making predictions faster and more memory efficient\n",
    "    y_preds = model0(X_test)\n",
    "\n",
    "y_preds"
   ]
  },
  {
   "cell_type": "code",
   "execution_count": 208,
   "id": "e66f1ec7-fffb-4000-baaf-fcb0a1d54ddc",
   "metadata": {
    "tags": []
   },
   "outputs": [
    {
     "data": {
      "image/png": "[encoded data removed]",
      "text/plain": [
       "<Figure size 1000x700 with 1 Axes>"
      ]
     },
     "metadata": {},
     "output_type": "display_data"
    }
   ],
   "source": [
    "plot_data(X_train, y_train, X_test, y_test, y_preds)"
   ]
  },
  {
   "cell_type": "markdown",
   "id": "ec43bbcb-5801-4da3-864f-ab28a5773f5f",
   "metadata": {
    "jp-MarkdownHeadingCollapsed": true,
    "tags": []
   },
   "source": [
    "## Training and testing the model"
   ]
  },
  {
   "cell_type": "code",
   "execution_count": 209,
   "id": "1e13fdcf-a1b6-4380-9086-9b833a51710f",
   "metadata": {},
   "outputs": [
    {
     "data": {
      "text/plain": [
       "(L1Loss(),\n",
       " SGD (\n",
       " Parameter Group 0\n",
       "     dampening: 0\n",
       "     differentiable: False\n",
       "     foreach: None\n",
       "     lr: 0.01\n",
       "     maximize: False\n",
       "     momentum: 0\n",
       "     nesterov: False\n",
       "     weight_decay: 0\n",
       " ))"
      ]
     },
     "execution_count": 209,
     "metadata": {},
     "output_type": "execute_result"
    }
   ],
   "source": [
    "# Loss function: Determines how wrong a prediction is (lower = better)\n",
    "# Optimizer: Adjusts parameters according to the loss function's values\n",
    "\n",
    "lossfn = nn.L1Loss()  # Define a MAE (Mean Absolute Error) loss function\n",
    "optimizer = torch.optim.SGD(params=model0.parameters(),  # Params: model's parameters\n",
    "                            lr=0.01)  # Learning rate: magnitude of the value adjustments (per decimal case)\n",
    "lossfn, optimizer"
   ]
  },
  {
   "cell_type": "code",
   "execution_count": 210,
   "id": "2d912b64-15ba-4742-bc27-1b1755adbf0c",
   "metadata": {
    "tags": []
   },
   "outputs": [
    {
     "name": "stdout",
     "output_type": "stream",
     "text": [
      "Epoch: 0 | Loss: 1.3738813400268555 | Test loss: 1.492065191268921\n",
      "OrderedDict([('weights', tensor([0.3406])), ('bias', tensor([0.1388]))])\n",
      "Epoch: 10 | Loss: 1.2586712837219238 | Test loss: 1.3573553562164307\n",
      "OrderedDict([('weights', tensor([0.3796])), ('bias', tensor([0.2388]))])\n",
      "Epoch: 20 | Loss: 1.1434614658355713 | Test loss: 1.2226454019546509\n",
      "OrderedDict([('weights', tensor([0.4186])), ('bias', tensor([0.3388]))])\n",
      "Epoch: 30 | Loss: 1.0282515287399292 | Test loss: 1.087935447692871\n",
      "OrderedDict([('weights', tensor([0.4576])), ('bias', tensor([0.4388]))])\n",
      "Epoch: 40 | Loss: 0.9130415916442871 | Test loss: 0.9532256126403809\n",
      "OrderedDict([('weights', tensor([0.4966])), ('bias', tensor([0.5388]))])\n",
      "Epoch: 50 | Loss: 0.7978317737579346 | Test loss: 0.8185158967971802\n",
      "OrderedDict([('weights', tensor([0.5356])), ('bias', tensor([0.6388]))])\n",
      "Epoch: 60 | Loss: 0.6826218962669373 | Test loss: 0.6838060617446899\n",
      "OrderedDict([('weights', tensor([0.5746])), ('bias', tensor([0.7388]))])\n",
      "Epoch: 70 | Loss: 0.5674120187759399 | Test loss: 0.5490961670875549\n",
      "OrderedDict([('weights', tensor([0.6136])), ('bias', tensor([0.8388]))])\n",
      "Epoch: 80 | Loss: 0.4522021412849426 | Test loss: 0.4143863320350647\n",
      "OrderedDict([('weights', tensor([0.6526])), ('bias', tensor([0.9388]))])\n",
      "Epoch: 90 | Loss: 0.33699220418930054 | Test loss: 0.2796764373779297\n",
      "OrderedDict([('weights', tensor([0.6916])), ('bias', tensor([1.0388]))])\n",
      "Epoch: 100 | Loss: 0.22178232669830322 | Test loss: 0.14496661722660065\n",
      "OrderedDict([('weights', tensor([0.7306])), ('bias', tensor([1.1388]))])\n",
      "Epoch: 110 | Loss: 0.1065724715590477 | Test loss: 0.011580884456634521\n",
      "OrderedDict([('weights', tensor([0.7696])), ('bias', tensor([1.2388]))])\n",
      "Epoch: 120 | Loss: 0.04130062833428383 | Test loss: 0.07217729091644287\n",
      "OrderedDict([('weights', tensor([0.7864])), ('bias', tensor([1.3063]))])\n",
      "Epoch: 130 | Loss: 0.03560534119606018 | Test loss: 0.07926595211029053\n",
      "OrderedDict([('weights', tensor([0.7741])), ('bias', tensor([1.3243]))])\n",
      "Epoch: 140 | Loss: 0.03209378942847252 | Test loss: 0.07442837953567505\n",
      "OrderedDict([('weights', tensor([0.7580])), ('bias', tensor([1.3338]))])\n",
      "Epoch: 150 | Loss: 0.02865961194038391 | Test loss: 0.06615591049194336\n",
      "OrderedDict([('weights', tensor([0.7408])), ('bias', tensor([1.3408]))])\n",
      "Epoch: 160 | Loss: 0.025220796465873718 | Test loss: 0.05788339301943779\n",
      "OrderedDict([('weights', tensor([0.7237])), ('bias', tensor([1.3478]))])\n",
      "Epoch: 170 | Loss: 0.021791839972138405 | Test loss: 0.05029789358377457\n",
      "OrderedDict([('weights', tensor([0.7067])), ('bias', tensor([1.3553]))])\n",
      "Epoch: 180 | Loss: 0.018355976790189743 | Test loss: 0.04202542454004288\n",
      "OrderedDict([('weights', tensor([0.6896])), ('bias', tensor([1.3623]))])\n",
      "Epoch: 190 | Loss: 0.014918324537575245 | Test loss: 0.034439921379089355\n",
      "OrderedDict([('weights', tensor([0.6726])), ('bias', tensor([1.3698]))])\n",
      "Epoch: 200 | Loss: 0.011489873751997948 | Test loss: 0.026167452335357666\n",
      "OrderedDict([('weights', tensor([0.6555])), ('bias', tensor([1.3768]))])\n",
      "Epoch: 210 | Loss: 0.008052336983382702 | Test loss: 0.017894959077239037\n",
      "OrderedDict([('weights', tensor([0.6383])), ('bias', tensor([1.3838]))])\n",
      "Epoch: 220 | Loss: 0.004616362042725086 | Test loss: 0.010309445671737194\n",
      "OrderedDict([('weights', tensor([0.6213])), ('bias', tensor([1.3913]))])\n",
      "Epoch: 230 | Loss: 0.0020396322943270206 | Test loss: 0.005039834883064032\n",
      "OrderedDict([('weights', tensor([0.6030])), ('bias', tensor([1.3923]))])\n",
      "Epoch: 240 | Loss: 0.004991784691810608 | Test loss: 0.005039834883064032\n",
      "OrderedDict([('weights', tensor([0.6030])), ('bias', tensor([1.3923]))])\n"
     ]
    }
   ],
   "source": [
    "# Training loop\n",
    "torch.manual_seed(42)\n",
    "\n",
    "# Loops through the data\n",
    "epochs = 250\n",
    "\n",
    "# Tracking data\n",
    "epoch_count = []\n",
    "loss_values = []\n",
    "test_loss_values = []\n",
    "\n",
    "# 1. Setting up the loops\n",
    "for epoch in range(epochs):\n",
    "    model0.train()  # Train mode: activates gradient requirements (tracking) across all parameters\n",
    "    \n",
    "    # 2. Forward pass (propagation)\n",
    "    y_pred = model0(X_train)\n",
    "    \n",
    "    # 3. Calculate loss\n",
    "    loss = lossfn(y_pred, y_train)\n",
    "    \n",
    "    # 4. Optimizer zero grad\n",
    "    optimizer.zero_grad()  # Resets the gradients of the previous iteration to a new tensor of 0s\n",
    "    \n",
    "    # 5. Backpropagation on the loss (compute the gradients)\n",
    "    loss.backward()\n",
    "    \n",
    "    # 6. Perform a step of optimization\n",
    "    optimizer.step()\n",
    "    \n",
    "    model0.eval()  # Evaluation mode: disables settings not needed for testing/evaluation\n",
    "    with torch.inference_mode():  # Turn off gradient tracking\n",
    "        # 2. Forward pass\n",
    "        test_pred = model0(X_test)\n",
    "        \n",
    "        # 3. Compute loss\n",
    "        test_loss = lossfn(y_test, test_pred)\n",
    "        \n",
    "        # Store tracking data\n",
    "        epoch_count.append(epoch)\n",
    "        test_loss_values.append(test_loss)\n",
    "        loss_values.append(loss)\n",
    "        \n",
    "    if epoch % 10 == 0:\n",
    "        print(f\"Epoch: {epoch} | Loss: {loss} | Test loss: {test_loss}\")\n",
    "        print(model0.state_dict())"
   ]
  },
  {
   "cell_type": "code",
   "execution_count": 211,
   "id": "46e40d8f-de70-4903-86ba-af71fccd2eb1",
   "metadata": {
    "tags": []
   },
   "outputs": [
    {
     "data": {
      "image/png": "[encoded data removed]",
      "text/plain": [
       "<Figure size 1000x700 with 1 Axes>"
      ]
     },
     "metadata": {},
     "output_type": "display_data"
    }
   ],
   "source": [
    "with torch.inference_mode():  # Disables gradient tracking, making predictions faster and more memory efficient\n",
    "    y_preds_now = model0(X_test)\n",
    "plot_data(X_train, y_train, X_test, y_test, y_preds_now)"
   ]
  },
  {
   "cell_type": "code",
   "execution_count": 212,
   "id": "0a593e77-b067-46e5-91a7-9016b1aaa613",
   "metadata": {
    "tags": []
   },
   "outputs": [],
   "source": [
    "# Arranging and plotting the model's progress\n",
    "\n",
    "def plot_predictions(epoch_count, loss_values, test_loss_values):\n",
    "    loss_values = torch.tensor(loss_values).numpy()\n",
    "    test_loss_values = torch.tensor(test_loss_values).numpy()\n",
    "\n",
    "    plt.plot(epoch_count, loss_values, label='Loss')\n",
    "    plt.plot(epoch_count, test_loss_values, label='Test loss')\n",
    "    plt.xlabel('Epoch')\n",
    "    plt.ylabel('Loss')\n",
    "    plt.title('Training and testing loss')\n",
    "    plt.legend();"
   ]
  },
  {
   "cell_type": "code",
   "execution_count": 213,
   "id": "2aaad31b-1d86-4125-baee-55dcd5bd59f5",
   "metadata": {
    "tags": []
   },
   "outputs": [
    {
     "data": {
      "image/png": "[encoded data removed]",
      "text/plain": [
       "<Figure size 640x480 with 1 Axes>"
      ]
     },
     "metadata": {},
     "output_type": "display_data"
    }
   ],
   "source": [
    "plot_predictions(epoch_count, loss_values, test_loss_values)"
   ]
  },
  {
   "cell_type": "markdown",
   "id": "170267b7-959e-44ad-8e0b-abd9c3aa33ea",
   "metadata": {
    "jp-MarkdownHeadingCollapsed": true,
    "tags": []
   },
   "source": [
    "## Saving and loading a model"
   ]
  },
  {
   "cell_type": "code",
   "execution_count": 214,
   "id": "eeb9bda3-221e-48f9-9d6c-2ffe01b9947e",
   "metadata": {
    "tags": []
   },
   "outputs": [
    {
     "name": "stdout",
     "output_type": "stream",
     "text": [
      "Saving model to: models\\01-LinearRegressionModel.pth\n"
     ]
    }
   ],
   "source": [
    "# Saving a model\n",
    "# torch.save() - save a PyTorch object (model)\n",
    "# torch.load() - load a PyTorch object (model)\n",
    "\n",
    "from pathlib import Path\n",
    "\n",
    "# 1. Creating model's directory\n",
    "MODEL_PATH = Path(\"models\")\n",
    "MODEL_PATH.mkdir(parents=True, exist_ok=True)\n",
    "\n",
    "# 2. Creating model's file name and path\n",
    "MODEL_NAME = \"01-LinearRegressionModel.pth\"\n",
    "MODEL_SAVE_PATH = MODEL_PATH / MODEL_NAME\n",
    "\n",
    "# 3. Save model's state dict\n",
    "print(f\"Saving model to: {MODEL_SAVE_PATH}\")\n",
    "torch.save(obj=model0.state_dict(), f=MODEL_SAVE_PATH)"
   ]
  },
  {
   "cell_type": "code",
   "execution_count": 215,
   "id": "886d33a8-335f-491c-8878-b3cab25550d1",
   "metadata": {
    "tags": []
   },
   "outputs": [
    {
     "data": {
      "text/plain": [
       "<All keys matched successfully>"
      ]
     },
     "execution_count": 215,
     "metadata": {},
     "output_type": "execute_result"
    }
   ],
   "source": [
    "# Loading a model\n",
    "# torch.nn.Module.load_state_dict() - load a model's saved state (all the training)\n",
    "\n",
    "loaded_model0 = LinearRegressionModel()\n",
    "loaded_model0.load_state_dict(torch.load(f=MODEL_SAVE_PATH))"
   ]
  },
  {
   "cell_type": "code",
   "execution_count": 216,
   "id": "536238bc-254d-444b-9229-a13dc4932938",
   "metadata": {
    "tags": []
   },
   "outputs": [
    {
     "name": "stdout",
     "output_type": "stream",
     "text": [
      "tensor([[True],\n",
      "        [True],\n",
      "        [True],\n",
      "        [True],\n",
      "        [True],\n",
      "        [True],\n",
      "        [True],\n",
      "        [True],\n",
      "        [True],\n",
      "        [True]])\n"
     ]
    }
   ],
   "source": [
    "# Testing to see if original and loaded are equal\n",
    "\n",
    "loaded_model0.eval()\n",
    "with torch.inference_mode():\n",
    "    loaded_model_preds = loaded_model0(X_test)\n",
    "\n",
    "print(loaded_model_preds == y_preds_now)"
   ]
  },
  {
   "cell_type": "markdown",
   "id": "eb0cfc11-375f-4ce0-a16f-3967901269e6",
   "metadata": {},
   "source": [
    "# Putting it all together"
   ]
  },
  {
   "cell_type": "markdown",
   "id": "d6c79490",
   "metadata": {},
   "source": [
    "## Preparing data"
   ]
  },
  {
   "cell_type": "code",
   "execution_count": 217,
   "id": "2ff44eb4",
   "metadata": {},
   "outputs": [],
   "source": [
    "# Quadratic regression (y = a*x**2 + b*x + c)\n",
    "# Generate data\n",
    "\n",
    "a = 1.2\n",
    "b = 0.8\n",
    "c = 0.5\n",
    "\n",
    "start = -4\n",
    "end = 4\n",
    "step = 0.05\n",
    "\n",
    "X = torch.arange(-4., 4., 0.05).unsqueeze(dim=1)  # IMPORTANT: without this, matrix multiplication will give an error\n",
    "y = a*X**2 + b*X + c"
   ]
  },
  {
   "cell_type": "code",
   "execution_count": 218,
   "id": "1046d8a4",
   "metadata": {},
   "outputs": [
    {
     "data": {
      "text/plain": [
       "(128, 128, 32, 32)"
      ]
     },
     "execution_count": 218,
     "metadata": {},
     "output_type": "execute_result"
    }
   ],
   "source": [
    "# Divide data\n",
    "\n",
    "split = int(len(X) * 0.8)\n",
    "\n",
    "X_train = X[:split]\n",
    "y_train = y[:split]\n",
    "\n",
    "X_test = X[split:]\n",
    "y_test = y[split:]\n",
    "\n",
    "len(X_train), len(y_train), len(X_test), len(y_test)"
   ]
  },
  {
   "cell_type": "code",
   "execution_count": 219,
   "id": "4c5579f3",
   "metadata": {},
   "outputs": [],
   "source": [
    "# Visualize data\n",
    "\n",
    "def plot_data(X_train, y_train, X_test, y_test, y_pred=None):\n",
    "    plt.figure(figsize=[10, 7])\n",
    "    plt.scatter(X_train, y_train, c='b', s=4, label='Train')\n",
    "    plt.scatter(X_test, y_test, c='y', s=4, label='Test')\n",
    "    if (y_pred is not None):\n",
    "        plt.scatter(X_test, y_pred, c='r', s=4, label='Prediction')\n",
    "    plt.legend();"
   ]
  },
  {
   "cell_type": "code",
   "execution_count": 220,
   "id": "a751e699",
   "metadata": {},
   "outputs": [
    {
     "data": {
      "image/png": "[encoded data removed]",
      "text/plain": [
       "<Figure size 1000x700 with 1 Axes>"
      ]
     },
     "metadata": {},
     "output_type": "display_data"
    }
   ],
   "source": [
    "plot_data(X_train, y_train, X_test, y_test)"
   ]
  },
  {
   "cell_type": "markdown",
   "id": "83d6a388",
   "metadata": {},
   "source": [
    "## Building the model"
   ]
  },
  {
   "cell_type": "code",
   "execution_count": 221,
   "id": "ea833d01",
   "metadata": {},
   "outputs": [],
   "source": [
    "torch.manual_seed(42)\n",
    "\n",
    "# Defining the model\n",
    "\n",
    "class QuadraticRegressionModel(nn.Module):\n",
    "    def __init__(self):\n",
    "        super().__init__()\n",
    "        self.weight2 = nn.Parameter(torch.randn(1,\n",
    "                                                requires_grad=True,\n",
    "                                                dtype=torch.float32))\n",
    "        self.weight1 = nn.Parameter(torch.randn(1,\n",
    "                                                requires_grad=True,\n",
    "                                                dtype=torch.float32))\n",
    "        self.bias = nn.Parameter(torch.randn(1,\n",
    "                                             requires_grad=True,\n",
    "                                             dtype=torch.float32))\n",
    "        \n",
    "    def forward(self, X):\n",
    "        return self.weight2*X**2 + self.weight1*X + self.bias"
   ]
  },
  {
   "cell_type": "code",
   "execution_count": 222,
   "id": "c038d451",
   "metadata": {},
   "outputs": [
    {
     "data": {
      "text/plain": [
       "QuadraticRegressionModel()"
      ]
     },
     "execution_count": 222,
     "metadata": {},
     "output_type": "execute_result"
    }
   ],
   "source": [
    "# Testing code above\n",
    "\n",
    "model1 = QuadraticRegressionModel()\n",
    "model1"
   ]
  },
  {
   "cell_type": "code",
   "execution_count": 223,
   "id": "5f9d3496",
   "metadata": {},
   "outputs": [
    {
     "data": {
      "image/png": "[encoded data removed]",
      "text/plain": [
       "<Figure size 1000x700 with 1 Axes>"
      ]
     },
     "metadata": {},
     "output_type": "display_data"
    }
   ],
   "source": [
    "with torch.inference_mode():\n",
    "    y_pred = model1(X_test)\n",
    "\n",
    "plot_data(X_train, y_train, X_test, y_test, y_pred)"
   ]
  },
  {
   "cell_type": "markdown",
   "id": "ec4b5a7f",
   "metadata": {},
   "source": [
    "## Training and testing the model"
   ]
  },
  {
   "cell_type": "code",
   "execution_count": 224,
   "id": "c925957b",
   "metadata": {},
   "outputs": [
    {
     "data": {
      "text/plain": [
       "(L1Loss(),\n",
       " SGD (\n",
       " Parameter Group 0\n",
       "     dampening: 0\n",
       "     differentiable: False\n",
       "     foreach: None\n",
       "     lr: 0.001\n",
       "     maximize: False\n",
       "     momentum: 0\n",
       "     nesterov: False\n",
       "     weight_decay: 0\n",
       " ))"
      ]
     },
     "execution_count": 224,
     "metadata": {},
     "output_type": "execute_result"
    }
   ],
   "source": [
    "# Loss function: MAE (Mean Absolute Error)\n",
    "# Optimizer: SGD (Stochastic Gradient Descent)\n",
    "\n",
    "loss_fn = nn.L1Loss()\n",
    "optimizer = torch.optim.SGD(params=model1.parameters(), lr=0.001)\n",
    "\n",
    "loss_fn, optimizer"
   ]
  },
  {
   "cell_type": "code",
   "execution_count": 225,
   "id": "7c309e55",
   "metadata": {},
   "outputs": [],
   "source": [
    "# Defining the training function\n",
    "\n",
    "epoch_count = []\n",
    "loss_values = []\n",
    "test_loss_values = []\n",
    "\n",
    "def train_model(epochs):\n",
    "    for epoch in range(1, epochs+1):\n",
    "        model1.train()\n",
    "\n",
    "        # Training procedure\n",
    "        train_pred = model1(X_train)\n",
    "        loss = loss_fn(train_pred, y_train)\n",
    "        model1.zero_grad()\n",
    "        loss.backward()\n",
    "        optimizer.step()\n",
    "\n",
    "        model1.eval()\n",
    "\n",
    "        # Testing and storing procedure\n",
    "        with torch.inference_mode():\n",
    "            test_pred = model1(X_test)\n",
    "            test_loss = loss_fn(test_pred, y_test)\n",
    "\n",
    "            epoch_count.append(epoch)\n",
    "            loss_values.append(loss)\n",
    "            test_loss_values.append(test_loss)\n",
    "    \n",
    "        # if (epoch % 10 == 0):\n",
    "            # print(f\"Epoch: {epoch} | Loss: {loss} | Test loss: {test_loss}\")"
   ]
  },
  {
   "cell_type": "code",
   "execution_count": 226,
   "id": "ed144925",
   "metadata": {},
   "outputs": [
    {
     "data": {
      "image/png": "[encoded data removed]",
      "text/plain": [
       "<Figure size 1000x700 with 1 Axes>"
      ]
     },
     "metadata": {},
     "output_type": "display_data"
    }
   ],
   "source": [
    "# Initiate training (1090 epochs was found to be an optimal number)\n",
    "\n",
    "train_model(1090)\n",
    "\n",
    "with torch.inference_mode():\n",
    "    y_pred_now = model1(X_test)\n",
    "plot_data(X_train, y_train, X_test, y_test, y_pred_now)\n"
   ]
  },
  {
   "cell_type": "code",
   "execution_count": 227,
   "id": "90fdf620",
   "metadata": {},
   "outputs": [
    {
     "data": {
      "image/png": "[encoded data removed]",
      "text/plain": [
       "<Figure size 640x480 with 1 Axes>"
      ]
     },
     "metadata": {},
     "output_type": "display_data"
    }
   ],
   "source": [
    "# Model training progress\n",
    "\n",
    "def plot_losses(epoch_count, loss_values, test_loss_values):\n",
    "    loss_values = torch.tensor(loss_values).squeeze().numpy()\n",
    "    test_loss_values = torch.tensor(test_loss_values).squeeze().numpy()\n",
    "\n",
    "    plt.plot(epoch_count, loss_values, label='Loss')\n",
    "    plt.plot(epoch_count, test_loss_values, label='Test loss')\n",
    "    plt.xlabel(\"Epoch\")\n",
    "    plt.ylabel(\"Loss\")\n",
    "    plt.legend();\n",
    "\n",
    "plot_losses(epoch_count, loss_values, test_loss_values)"
   ]
  },
  {
   "cell_type": "markdown",
   "id": "58af2316",
   "metadata": {},
   "source": [
    "## Saving and loading the model"
   ]
  },
  {
   "cell_type": "code",
   "execution_count": 228,
   "id": "0181dad9",
   "metadata": {},
   "outputs": [],
   "source": [
    "# Saving model\n",
    "\n",
    "from pathlib import Path\n",
    "\n",
    "PATH = Path(\"models\")\n",
    "PATH.mkdir(parents=True, exist_ok=True)\n",
    "\n",
    "MODEL_NAME = \"01-QuadraticRegressionModel.pth\"\n",
    "SAVE_MODEL_PATH = PATH / MODEL_NAME\n",
    "\n",
    "torch.save(model1, f=SAVE_MODEL_PATH)"
   ]
  },
  {
   "cell_type": "code",
   "execution_count": 229,
   "id": "194f9f9d",
   "metadata": {},
   "outputs": [
    {
     "data": {
      "text/plain": [
       "tensor([[True],\n",
       "        [True],\n",
       "        [True],\n",
       "        [True],\n",
       "        [True],\n",
       "        [True],\n",
       "        [True],\n",
       "        [True],\n",
       "        [True],\n",
       "        [True],\n",
       "        [True],\n",
       "        [True],\n",
       "        [True],\n",
       "        [True],\n",
       "        [True],\n",
       "        [True],\n",
       "        [True],\n",
       "        [True],\n",
       "        [True],\n",
       "        [True],\n",
       "        [True],\n",
       "        [True],\n",
       "        [True],\n",
       "        [True],\n",
       "        [True],\n",
       "        [True],\n",
       "        [True],\n",
       "        [True],\n",
       "        [True],\n",
       "        [True],\n",
       "        [True],\n",
       "        [True]])"
      ]
     },
     "execution_count": 229,
     "metadata": {},
     "output_type": "execute_result"
    }
   ],
   "source": [
    "# Loading model\n",
    "\n",
    "loaded_model1 = torch.load(f=SAVE_MODEL_PATH)\n",
    "loaded_model1.state_dict()\n",
    "\n",
    "with torch.inference_mode():\n",
    "    loaded_model1_preds = loaded_model1(X_test)\n",
    "\n",
    "loaded_model1_preds == y_pred_now"
   ]
  },
  {
   "cell_type": "markdown",
   "id": "730b00d8",
   "metadata": {},
   "source": [
    "# Linear Tranformation Model"
   ]
  },
  {
   "cell_type": "markdown",
   "id": "d7be796c",
   "metadata": {},
   "source": [
    "## Data preparation"
   ]
  },
  {
   "cell_type": "code",
   "execution_count": 230,
   "id": "e029865f",
   "metadata": {},
   "outputs": [],
   "source": [
    "# For simplicity purposes, a linear function is going to be chosen. Non-linear functions require multiple layers\n",
    "\n",
    "# Function parameters\n",
    "weight = 2.1\n",
    "bias = 0.3\n",
    "\n",
    "# Data creation\n",
    "start = -3\n",
    "end = 3\n",
    "step = 0.1\n",
    "\n",
    "# Function\n",
    "X = torch.arange(start, end, step).unsqueeze(dim=1)  # IMPORTANT: without this, matrix multiplication will give an error\n",
    "y = weight*X + bias"
   ]
  },
  {
   "cell_type": "code",
   "execution_count": 231,
   "id": "92f15230",
   "metadata": {},
   "outputs": [
    {
     "data": {
      "text/plain": [
       "(48, 48, 12, 12)"
      ]
     },
     "execution_count": 231,
     "metadata": {},
     "output_type": "execute_result"
    }
   ],
   "source": [
    "# Splitting data\n",
    "\n",
    "split = int(len(X) * 0.8)\n",
    "X_train = X[:split]\n",
    "y_train = y[:split]\n",
    "X_test = X[split:]\n",
    "y_test = y[split:]\n",
    "\n",
    "len(X_train), len(y_train), len(X_test), len(y_test)"
   ]
  },
  {
   "cell_type": "code",
   "execution_count": 232,
   "id": "fc44e89a",
   "metadata": {},
   "outputs": [
    {
     "data": {
      "image/png": "[encoded data removed]",
      "text/plain": [
       "<Figure size 640x480 with 1 Axes>"
      ]
     },
     "metadata": {},
     "output_type": "display_data"
    }
   ],
   "source": [
    "# Visualize data\n",
    "\n",
    "def plot_data(X_train, y_train, X_test, y_test, y_pred=None):\n",
    "    plt.figure()\n",
    "    plt.scatter(X_train, y_train, s=4, c='b', label='Train')\n",
    "    plt.scatter(X_test, y_test, s=4, c='y', label='Test')\n",
    "    if (y_pred is not None):\n",
    "        plt.scatter(X_test, y_pred, s=4, c='r', label='Prediction')\n",
    "    plt.legend();\n",
    "\n",
    "plot_data(X_train, y_train, X_test, y_test)"
   ]
  },
  {
   "cell_type": "markdown",
   "id": "705ab262",
   "metadata": {},
   "source": [
    "## Building the model"
   ]
  },
  {
   "cell_type": "code",
   "execution_count": 233,
   "id": "0c036ff1",
   "metadata": {},
   "outputs": [],
   "source": [
    "# Defining the model\n",
    "torch.manual_seed(42)\n",
    "\n",
    "class LinearTranformationModel(nn.Module):\n",
    "    def __init__(self):\n",
    "        super().__init__()\n",
    "        self.linear_layer = nn.Linear(in_features=1,   # x variable\n",
    "                                      out_features=1)  # y variable\n",
    "        \n",
    "    def forward(self, X: torch.Tensor) -> torch.Tensor:\n",
    "        return self.linear_layer(X)"
   ]
  },
  {
   "cell_type": "code",
   "execution_count": 234,
   "id": "fcf3bf5c",
   "metadata": {},
   "outputs": [
    {
     "data": {
      "text/plain": [
       "(LinearTranformationModel(\n",
       "   (linear_layer): Linear(in_features=1, out_features=1, bias=True)\n",
       " ),\n",
       " OrderedDict([('linear_layer.weight', tensor([[0.7645]])),\n",
       "              ('linear_layer.bias', tensor([0.8300]))]))"
      ]
     },
     "execution_count": 234,
     "metadata": {},
     "output_type": "execute_result"
    }
   ],
   "source": [
    "# Creating a model\n",
    "\n",
    "model2 = LinearTranformationModel()\n",
    "model2, model2.state_dict()"
   ]
  },
  {
   "cell_type": "code",
   "execution_count": 235,
   "metadata": {},
   "outputs": [
    {
     "data": {
      "image/png": "[encoded data removed]",
      "text/plain": [
       "<Figure size 640x480 with 1 Axes>"
      ]
     },
     "metadata": {},
     "output_type": "display_data"
    }
   ],
   "source": [
    "# Initial model prediction\n",
    "\n",
    "with torch.inference_mode():\n",
    "    y_pred = model2(X_test)\n",
    "    \n",
    "plot_data(X_train, y_train, X_test, y_test, y_pred)"
   ]
  },
  {
   "cell_type": "markdown",
   "id": "6e809172",
   "metadata": {},
   "source": [
    "## Training the model"
   ]
  },
  {
   "cell_type": "code",
   "execution_count": 236,
   "id": "570d88ee",
   "metadata": {},
   "outputs": [
    {
     "data": {
      "text/plain": [
       "(L1Loss(),\n",
       " SGD (\n",
       " Parameter Group 0\n",
       "     dampening: 0\n",
       "     differentiable: False\n",
       "     foreach: None\n",
       "     lr: 0.01\n",
       "     maximize: False\n",
       "     momentum: 0\n",
       "     nesterov: False\n",
       "     weight_decay: 0\n",
       " ))"
      ]
     },
     "execution_count": 236,
     "metadata": {},
     "output_type": "execute_result"
    }
   ],
   "source": [
    "# Loss and optimizer\n",
    "\n",
    "loss_fn = nn.L1Loss()\n",
    "optimizer = torch.optim.SGD(params=model2.parameters(),\n",
    "                            lr=0.01)\n",
    "\n",
    "loss_fn, optimizer"
   ]
  },
  {
   "cell_type": "code",
   "execution_count": 237,
   "id": "015c5cd3",
   "metadata": {},
   "outputs": [],
   "source": [
    "# Defining model training\n",
    "\n",
    "epoch_count = []\n",
    "loss_values = []\n",
    "test_loss_values = []\n",
    "\n",
    "def train_model(epochs):\n",
    "    for epoch in range(1, epochs+1):\n",
    "        model2.train()\n",
    "\n",
    "        model2.zero_grad()\n",
    "        y_pred = model2.forward(X_train)\n",
    "        loss = loss_fn(y_pred, y_train)\n",
    "        loss.backward()\n",
    "        optimizer.step()\n",
    "\n",
    "        model2.eval()\n",
    "\n",
    "        with torch.inference_mode():\n",
    "            test_pred = model2(X_test)\n",
    "            test_loss = loss_fn(test_pred, y_test)\n",
    "            epoch_count.append(epoch)\n",
    "            loss_values.append(loss)\n",
    "            test_loss_values.append(test_loss)\n",
    "        \n",
    "        if (epoch % 10 == 0):\n",
    "            print(f\"Epoch: {epoch} | Loss: {loss} | Test loss: {test_loss}\")"
   ]
  },
  {
   "cell_type": "code",
   "execution_count": 238,
   "id": "e9651fa1",
   "metadata": {},
   "outputs": [
    {
     "name": "stdout",
     "output_type": "stream",
     "text": [
      "Epoch: 10 | Loss: 1.7480039596557617 | Test loss: 2.3573477268218994\n",
      "Epoch: 20 | Loss: 1.5717869997024536 | Test loss: 2.1104109287261963\n",
      "Epoch: 30 | Loss: 1.395569920539856 | Test loss: 1.863473892211914\n",
      "Epoch: 40 | Loss: 1.2193529605865479 | Test loss: 1.6165369749069214\n",
      "Epoch: 50 | Loss: 1.0431360006332397 | Test loss: 1.36959969997406\n",
      "Epoch: 60 | Loss: 0.8669189810752869 | Test loss: 1.1226625442504883\n",
      "Epoch: 70 | Loss: 0.690701961517334 | Test loss: 0.8757256865501404\n",
      "Epoch: 80 | Loss: 0.5144850611686707 | Test loss: 0.6287882924079895\n",
      "Epoch: 90 | Loss: 0.3390186131000519 | Test loss: 0.38819530606269836\n",
      "Epoch: 100 | Loss: 0.1645512729883194 | Test loss: 0.154338076710701\n",
      "Epoch: 110 | Loss: 0.0017407011473551393 | Test loss: 0.008626461029052734\n",
      "Epoch: 120 | Loss: 0.004411403555423021 | Test loss: 0.01950128935277462\n"
     ]
    }
   ],
   "source": [
    "# Train the model\n",
    "\n",
    "epochs = 120  # Determined to be an optimal number for this seed\n",
    "train_model(epochs)"
   ]
  },
  {
   "cell_type": "code",
   "execution_count": 239,
   "id": "60cde36e",
   "metadata": {},
   "outputs": [
    {
     "data": {
      "image/png": "[encoded data removed]",
      "text/plain": [
       "<Figure size 640x480 with 1 Axes>"
      ]
     },
     "metadata": {},
     "output_type": "display_data"
    },
    {
     "data": {
      "image/png": "[encoded data removed]",
      "text/plain": [
       "<Figure size 640x480 with 1 Axes>"
      ]
     },
     "metadata": {},
     "output_type": "display_data"
    }
   ],
   "source": [
    "# Plotting results\n",
    "\n",
    "def plot_losses(epoch_count, loss_values, test_loss_values):\n",
    "    loss_values = torch.Tensor(loss_values).numpy()\n",
    "    test_loss_values = torch.Tensor(test_loss_values).numpy()\n",
    "    plt.figure()\n",
    "    plt.plot(epoch_count, loss_values, label='Loss')\n",
    "    plt.plot(epoch_count, test_loss_values, label='Test loss')\n",
    "    plt.xlabel('Epoch')\n",
    "    plt.ylabel('Loss')\n",
    "    plt.legend();\n",
    "\n",
    "with torch.inference_mode():\n",
    "    y_pred = model2(X_test)\n",
    "    \n",
    "plot_data(X_train, y_train, X_test, y_test, y_pred)\n",
    "plot_losses(epoch_count, loss_values, test_loss_values)"
   ]
  },
  {
   "cell_type": "markdown",
   "id": "c2272996",
   "metadata": {},
   "source": [
    "## Saving and loading the model"
   ]
  },
  {
   "cell_type": "code",
   "execution_count": 240,
   "id": "acd89c5d",
   "metadata": {},
   "outputs": [
    {
     "data": {
      "text/plain": [
       "WindowsPath('models/01-LinearTransformationModel.pth')"
      ]
     },
     "execution_count": 240,
     "metadata": {},
     "output_type": "execute_result"
    }
   ],
   "source": [
    "# Creating saving path\n",
    "\n",
    "from pathlib import Path\n",
    "\n",
    "PATH = Path(\"models\")\n",
    "PATH.mkdir(parents=True, exist_ok=True)\n",
    "\n",
    "MODEL_NAME = \"01-LinearTransformationModel.pth\"\n",
    "SAVE_MODEL_PATH = PATH / MODEL_NAME\n",
    "SAVE_MODEL_PATH"
   ]
  },
  {
   "cell_type": "code",
   "execution_count": 241,
   "id": "7b833f1a",
   "metadata": {},
   "outputs": [],
   "source": [
    "# Saving the model\n",
    "\n",
    "torch.save(model2.state_dict(), SAVE_MODEL_PATH)"
   ]
  },
  {
   "cell_type": "code",
   "execution_count": 242,
   "id": "c529e9e6",
   "metadata": {},
   "outputs": [
    {
     "data": {
      "text/plain": [
       "tensor([[True],\n",
       "        [True],\n",
       "        [True],\n",
       "        [True],\n",
       "        [True],\n",
       "        [True],\n",
       "        [True],\n",
       "        [True],\n",
       "        [True],\n",
       "        [True],\n",
       "        [True],\n",
       "        [True]])"
      ]
     },
     "execution_count": 242,
     "metadata": {},
     "output_type": "execute_result"
    }
   ],
   "source": [
    "# Loading the model\n",
    "\n",
    "loaded_model2 = LinearTranformationModel()\n",
    "loaded_model2.load_state_dict(torch.load(SAVE_MODEL_PATH))\n",
    "\n",
    "loaded_model2.eval()\n",
    "with torch.inference_mode():\n",
    "    loaded_pred = loaded_model2(X_test)\n",
    "\n",
    "y_pred == loaded_pred"
   ]
  },
  {
   "cell_type": "markdown",
   "id": "77cb0817",
   "metadata": {},
   "source": [
    "# Exercises"
   ]
  },
  {
   "cell_type": "markdown",
   "id": "d8c1d526",
   "metadata": {},
   "source": [
    "## 0. Import libraries and create device agnostic code"
   ]
  },
  {
   "cell_type": "code",
   "execution_count": 243,
   "id": "98a20c88",
   "metadata": {},
   "outputs": [],
   "source": [
    "# Libraries\n",
    "\n",
    "import torch\n",
    "import torch.nn as nn\n",
    "import numpy as np\n",
    "import matplotlib.pyplot as plt"
   ]
  },
  {
   "cell_type": "code",
   "execution_count": 244,
   "id": "4f66591d",
   "metadata": {},
   "outputs": [
    {
     "data": {
      "text/plain": [
       "'cuda'"
      ]
     },
     "execution_count": 244,
     "metadata": {},
     "output_type": "execute_result"
    }
   ],
   "source": [
    "# Device agnostic code\n",
    "\n",
    "device = 'cuda' if torch.cuda.is_available() else 'cpu'\n",
    "device"
   ]
  },
  {
   "cell_type": "markdown",
   "id": "5b481a85",
   "metadata": {},
   "source": [
    "## 1. Create a straight line dataset using the linear regression formula (weight * X + bias)"
   ]
  },
  {
   "cell_type": "code",
   "execution_count": 245,
   "id": "16fe3d27",
   "metadata": {},
   "outputs": [
    {
     "data": {
      "text/plain": [
       "(tensor([[0.0000],\n",
       "         [0.0100],\n",
       "         [0.0200],\n",
       "         [0.0300],\n",
       "         [0.0400],\n",
       "         [0.0500],\n",
       "         [0.0600],\n",
       "         [0.0700],\n",
       "         [0.0800],\n",
       "         [0.0900]]),\n",
       " tensor([[0.9000],\n",
       "         [0.9030],\n",
       "         [0.9060],\n",
       "         [0.9090],\n",
       "         [0.9120],\n",
       "         [0.9150],\n",
       "         [0.9180],\n",
       "         [0.9210],\n",
       "         [0.9240],\n",
       "         [0.9270]]),\n",
       " torch.Size([100, 1]))"
      ]
     },
     "execution_count": 245,
     "metadata": {},
     "output_type": "execute_result"
    }
   ],
   "source": [
    "# weight = 0.3, bias = 0.9, split = 80/20, dataset size = 100\n",
    "\n",
    "weight = 0.3\n",
    "bias = 0.9\n",
    "\n",
    "start = 0\n",
    "end = 1\n",
    "step = 0.01\n",
    "\n",
    "X = torch.arange(start, end, step).unsqueeze(dim=1)\n",
    "y = weight*X + bias\n",
    "\n",
    "X[:10], y[:10], X.shape"
   ]
  },
  {
   "cell_type": "code",
   "execution_count": 246,
   "id": "50ba350e",
   "metadata": {},
   "outputs": [
    {
     "data": {
      "text/plain": [
       "(80, 80, 20, 20)"
      ]
     },
     "execution_count": 246,
     "metadata": {},
     "output_type": "execute_result"
    }
   ],
   "source": [
    "# Splitting the data\n",
    "\n",
    "split = int(0.8*len(X))\n",
    "\n",
    "X_train = X[:split]\n",
    "y_train = y[:split]\n",
    "X_test = X[split:]\n",
    "y_test = y[split:]\n",
    "\n",
    "len(X_train), len(y_train), len(X_test), len(y_test)"
   ]
  },
  {
   "cell_type": "code",
   "execution_count": 247,
   "id": "fdbb982d",
   "metadata": {},
   "outputs": [
    {
     "data": {
      "image/png": "[encoded data removed]",
      "text/plain": [
       "<Figure size 640x480 with 1 Axes>"
      ]
     },
     "metadata": {},
     "output_type": "display_data"
    }
   ],
   "source": [
    "def plot_data(X_train, y_train, X_test, y_test, y_pred=None):\n",
    "    plt.figure()\n",
    "    plt.scatter(X_train, y_train, s=4, c='b', label='Train')\n",
    "    plt.scatter(X_test, y_test, s=4, c='y', label='Test')\n",
    "    if (y_pred is not None):\n",
    "        plt.scatter(X_test, y_pred, s=4, c='r', label='Pred')\n",
    "    plt.legend();\n",
    "\n",
    "plot_data(X_train, y_train, X_test, y_test)"
   ]
  },
  {
   "cell_type": "markdown",
   "id": "1573b8b6",
   "metadata": {},
   "source": [
    "## 2. Build a PyTorch model by subclassing nn.Module"
   ]
  },
  {
   "cell_type": "code",
   "execution_count": 248,
   "id": "52fdb767",
   "metadata": {},
   "outputs": [],
   "source": [
    "# nn.linear will be used\n",
    "torch.manual_seed(42)\n",
    "\n",
    "class ExerciseModel(nn.Module):\n",
    "    def __init__(self):\n",
    "        super().__init__()\n",
    "        self.linear_layer = nn.Linear(in_features=1,\n",
    "                                      out_features=1)\n",
    "        \n",
    "    def forward(self, X):\n",
    "        return self.linear_layer(X)"
   ]
  },
  {
   "cell_type": "code",
   "execution_count": 249,
   "id": "a34497ad",
   "metadata": {},
   "outputs": [
    {
     "data": {
      "text/plain": [
       "(ExerciseModel(\n",
       "   (linear_layer): Linear(in_features=1, out_features=1, bias=True)\n",
       " ),\n",
       " OrderedDict([('linear_layer.weight', tensor([[0.7645]])),\n",
       "              ('linear_layer.bias', tensor([0.8300]))]))"
      ]
     },
     "execution_count": 249,
     "metadata": {},
     "output_type": "execute_result"
    }
   ],
   "source": [
    "# Creating model instance\n",
    "\n",
    "modelex = ExerciseModel()\n",
    "modelex, modelex.state_dict()"
   ]
  },
  {
   "cell_type": "markdown",
   "id": "a268f245",
   "metadata": {},
   "source": [
    "## 3. Create a loss function and optimizer using nn.L1Loss() and torch.optim.SGD(params, lr) respectively"
   ]
  },
  {
   "cell_type": "code",
   "execution_count": 250,
   "id": "4da0f657",
   "metadata": {},
   "outputs": [
    {
     "data": {
      "text/plain": [
       "(L1Loss(),\n",
       " SGD (\n",
       " Parameter Group 0\n",
       "     dampening: 0\n",
       "     differentiable: False\n",
       "     foreach: None\n",
       "     lr: 0.01\n",
       "     maximize: False\n",
       "     momentum: 0\n",
       "     nesterov: False\n",
       "     weight_decay: 0\n",
       " ))"
      ]
     },
     "execution_count": 250,
     "metadata": {},
     "output_type": "execute_result"
    }
   ],
   "source": [
    "loss_fn = nn.L1Loss()\n",
    "optimizer = torch.optim.SGD(params=modelex.parameters(),\n",
    "                            lr=0.01)\n",
    "loss_fn, optimizer"
   ]
  },
  {
   "cell_type": "code",
   "execution_count": 251,
   "id": "7bae43de",
   "metadata": {},
   "outputs": [],
   "source": [
    "# Defining training cycle\n",
    "\n",
    "torch.manual_seed(42)\n",
    "epoch_count=[]\n",
    "loss_values=[]\n",
    "test_loss_values=[]\n",
    "\n",
    "def train_model(epochs):\n",
    "    for epoch in range(1, epochs+1):\n",
    "        modelex.train()\n",
    "\n",
    "        modelex.zero_grad()\n",
    "        y_pred = modelex.forward(X_train)\n",
    "        loss = loss_fn(y_pred, y_train)\n",
    "        loss.backward()\n",
    "        optimizer.step()\n",
    "\n",
    "        if (epoch % 20 == 0):\n",
    "            modelex.eval()\n",
    "\n",
    "            with torch.inference_mode():\n",
    "                test_pred = modelex(X_test)\n",
    "                test_loss = loss_fn(test_pred, y_test)\n",
    "\n",
    "                epoch_count.append(epoch)\n",
    "                loss_values.append(loss)\n",
    "                test_loss_values.append(test_loss)\n",
    "\n",
    "            print(f\"Epoch: {epoch} | Loss: {loss} | Test loss: {test_loss}\")\n"
   ]
  },
  {
   "cell_type": "code",
   "execution_count": 252,
   "id": "97e646a5",
   "metadata": {},
   "outputs": [
    {
     "name": "stdout",
     "output_type": "stream",
     "text": [
      "Epoch: 20 | Loss: 0.08270234614610672 | Test loss: 0.22185663878917694\n",
      "Epoch: 40 | Loss: 0.07244014739990234 | Test loss: 0.17603714764118195\n",
      "Epoch: 60 | Loss: 0.06542257964611053 | Test loss: 0.15386894345283508\n",
      "Epoch: 80 | Loss: 0.0585714690387249 | Test loss: 0.13754181563854218\n",
      "Epoch: 100 | Loss: 0.05171937867999077 | Test loss: 0.12155871093273163\n",
      "Epoch: 120 | Loss: 0.04486827552318573 | Test loss: 0.10523159801959991\n",
      "Epoch: 140 | Loss: 0.03801713138818741 | Test loss: 0.08890429884195328\n",
      "Epoch: 160 | Loss: 0.03116495907306671 | Test loss: 0.07292068749666214\n",
      "Epoch: 180 | Loss: 0.024313753470778465 | Test loss: 0.056593120098114014\n",
      "Epoch: 200 | Loss: 0.017462557181715965 | Test loss: 0.040265560150146484\n",
      "Epoch: 220 | Loss: 0.010610383935272694 | Test loss: 0.02428193762898445\n",
      "Epoch: 240 | Loss: 0.0037596062757074833 | Test loss: 0.007956618443131447\n",
      "Epoch: 260 | Loss: 0.003681749105453491 | Test loss: 0.006471020169556141\n",
      "Epoch: 280 | Loss: 0.003681749105453491 | Test loss: 0.006471020169556141\n",
      "Epoch: 300 | Loss: 0.003681749105453491 | Test loss: 0.006471020169556141\n"
     ]
    }
   ],
   "source": [
    "# Train the model\n",
    "\n",
    "train_model(300)"
   ]
  },
  {
   "cell_type": "code",
   "execution_count": 253,
   "id": "74537dbd",
   "metadata": {},
   "outputs": [
    {
     "data": {
      "text/plain": [
       "OrderedDict([('linear_layer.weight', tensor([[0.3028]])),\n",
       "             ('linear_layer.bias', tensor([0.8910]))])"
      ]
     },
     "execution_count": 253,
     "metadata": {},
     "output_type": "execute_result"
    },
    {
     "data": {
      "image/png": "[encoded data removed]",
      "text/plain": [
       "<Figure size 640x480 with 1 Axes>"
      ]
     },
     "metadata": {},
     "output_type": "display_data"
    },
    {
     "data": {
      "image/png": "[encoded data removed]",
      "text/plain": [
       "<Figure size 640x480 with 1 Axes>"
      ]
     },
     "metadata": {},
     "output_type": "display_data"
    }
   ],
   "source": [
    "# Visualizing the losses and predictions\n",
    "\n",
    "def plot_losses(loss_values, test_loss_values):\n",
    "    loss_values = torch.tensor(loss_values).numpy()\n",
    "    test_loss_values = torch.tensor(test_loss_values).numpy()\n",
    "\n",
    "    plt.figure()\n",
    "    plt.plot(epoch_count, loss_values, label='Loss')\n",
    "    plt.plot(epoch_count, test_loss_values, label='Test loss')\n",
    "    plt.xlabel('Epoch')\n",
    "    plt.ylabel('Loss')\n",
    "    plt.legend();\n",
    "\n",
    "with torch.inference_mode():\n",
    "    y_pred = modelex(X_test)\n",
    "\n",
    "plot_data(X_train, y_train, X_test, y_test, y_pred)\n",
    "plot_losses(loss_values, test_loss_values)\n",
    "modelex.state_dict()"
   ]
  },
  {
   "cell_type": "markdown",
   "id": "1dc36d4b",
   "metadata": {},
   "source": [
    "## 4. Saving and loading the model"
   ]
  },
  {
   "cell_type": "code",
   "execution_count": 254,
   "id": "deb9c122",
   "metadata": {},
   "outputs": [
    {
     "data": {
      "text/plain": [
       "WindowsPath('models/01-ExerciseModel.pth')"
      ]
     },
     "execution_count": 254,
     "metadata": {},
     "output_type": "execute_result"
    }
   ],
   "source": [
    "# Create saving path\n",
    "\n",
    "from pathlib import Path\n",
    "\n",
    "PATH = Path(\"models\")\n",
    "MODEL_NAME = \"01-ExerciseModel.pth\"\n",
    "SAVING_MODEL_PATH = PATH / MODEL_NAME\n",
    "SAVING_MODEL_PATH"
   ]
  },
  {
   "cell_type": "code",
   "execution_count": 255,
   "id": "16c540b1",
   "metadata": {},
   "outputs": [],
   "source": [
    "# Save model\n",
    "\n",
    "torch.save(modelex.state_dict(), SAVING_MODEL_PATH)"
   ]
  },
  {
   "cell_type": "code",
   "execution_count": 256,
   "id": "6a4b3bcc",
   "metadata": {},
   "outputs": [
    {
     "data": {
      "text/plain": [
       "<All keys matched successfully>"
      ]
     },
     "execution_count": 256,
     "metadata": {},
     "output_type": "execute_result"
    }
   ],
   "source": [
    "# Load model\n",
    "\n",
    "loaded_modelex = ExerciseModel()\n",
    "loaded_modelex.load_state_dict(torch.load(SAVING_MODEL_PATH))"
   ]
  },
  {
   "cell_type": "code",
   "execution_count": 257,
   "id": "454791a5",
   "metadata": {},
   "outputs": [
    {
     "data": {
      "text/plain": [
       "tensor([[True],\n",
       "        [True],\n",
       "        [True],\n",
       "        [True],\n",
       "        [True],\n",
       "        [True],\n",
       "        [True],\n",
       "        [True],\n",
       "        [True],\n",
       "        [True],\n",
       "        [True],\n",
       "        [True],\n",
       "        [True],\n",
       "        [True],\n",
       "        [True],\n",
       "        [True],\n",
       "        [True],\n",
       "        [True],\n",
       "        [True],\n",
       "        [True]])"
      ]
     },
     "execution_count": 257,
     "metadata": {},
     "output_type": "execute_result"
    }
   ],
   "source": [
    "# Testing loaded model\n",
    "\n",
    "loaded_modelex.eval()\n",
    "\n",
    "with torch.inference_mode():\n",
    "    loaded_modelex_pred = loaded_modelex(X_test)\n",
    "\n",
    "loaded_modelex_pred == y_pred"
   ]
  }
 ],
 "metadata": {
  "kernelspec": {
   "display_name": "Python 3 (ipykernel)",
   "language": "python",
   "name": "python3"
  },
  "language_info": {
   "codemirror_mode": {
    "name": "ipython",
    "version": 3
   },
   "file_extension": ".py",
   "mimetype": "text/x-python",
   "name": "python",
   "nbconvert_exporter": "python",
   "pygments_lexer": "ipython3",
   "version": "3.11.5"
  }
 },
 "nbformat": 4,
 "nbformat_minor": 5
}
